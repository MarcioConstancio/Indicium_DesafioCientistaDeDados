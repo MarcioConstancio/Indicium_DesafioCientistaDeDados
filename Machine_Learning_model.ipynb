{
 "cells": [
  {
   "cell_type": "markdown",
   "id": "2d88f47b",
   "metadata": {},
   "source": [
    "# Modelo de Machine Learning"
   ]
  },
  {
   "cell_type": "markdown",
   "id": "a75f570b",
   "metadata": {},
   "source": [
    "Iniciamos o notebook importando todas as bibliotecas que serão úteis. "
   ]
  },
  {
   "cell_type": "code",
   "execution_count": 1,
   "id": "084fba27",
   "metadata": {
    "ExecuteTime": {
     "end_time": "2023-02-03T02:07:22.977955Z",
     "start_time": "2023-02-03T02:07:21.483500Z"
    }
   },
   "outputs": [],
   "source": [
    "import pandas as pd\n",
    "import numpy as np\n",
    "import matplotlib.pyplot as plt\n",
    "from sklearn.linear_model import LogisticRegression\n",
    "from sklearn.compose import ColumnTransformer\n",
    "from sklearn.pipeline import Pipeline\n",
    "from sklearn import set_config\n",
    "set_config(display='diagram')\n",
    "from sklearn.preprocessing import OneHotEncoder,StandardScaler\n",
    "from sklearn.utils.class_weight import compute_class_weight\n",
    "from sklearn.metrics import recall_score,confusion_matrix,ConfusionMatrixDisplay,precision_score,make_scorer\n",
    "from sklearn.model_selection import train_test_split,GridSearchCV"
   ]
  },
  {
   "cell_type": "code",
   "execution_count": 2,
   "id": "c0d3a997",
   "metadata": {
    "ExecuteTime": {
     "end_time": "2023-02-03T02:07:22.985657Z",
     "start_time": "2023-02-03T02:07:22.980949Z"
    }
   },
   "outputs": [
    {
     "name": "stdout",
     "output_type": "stream",
     "text": [
      "A versão atual do scikit-learn é: 1.0.1\n"
     ]
    }
   ],
   "source": [
    "import sklearn\n",
    "print(f'A versão atual do scikit-learn é: {sklearn.__version__}')"
   ]
  },
  {
   "cell_type": "code",
   "execution_count": 3,
   "id": "dd8c0a04",
   "metadata": {
    "ExecuteTime": {
     "end_time": "2023-02-03T02:07:23.084478Z",
     "start_time": "2023-02-03T02:07:22.987889Z"
    }
   },
   "outputs": [
    {
     "data": {
      "text/html": [
       "<div>\n",
       "<style scoped>\n",
       "    .dataframe tbody tr th:only-of-type {\n",
       "        vertical-align: middle;\n",
       "    }\n",
       "\n",
       "    .dataframe tbody tr th {\n",
       "        vertical-align: top;\n",
       "    }\n",
       "\n",
       "    .dataframe thead th {\n",
       "        text-align: right;\n",
       "    }\n",
       "</style>\n",
       "<table border=\"1\" class=\"dataframe\">\n",
       "  <thead>\n",
       "    <tr style=\"text-align: right;\">\n",
       "      <th></th>\n",
       "      <th>type</th>\n",
       "      <th>air_temperature_k</th>\n",
       "      <th>process_temperature_k</th>\n",
       "      <th>rotational_speed_rpm</th>\n",
       "      <th>torque_nm</th>\n",
       "      <th>tool_wear_min</th>\n",
       "      <th>failure_type</th>\n",
       "      <th>diff_temperature_air_process</th>\n",
       "      <th>power_W</th>\n",
       "      <th>wear_x_torque_minNm</th>\n",
       "    </tr>\n",
       "  </thead>\n",
       "  <tbody>\n",
       "    <tr>\n",
       "      <th>0</th>\n",
       "      <td>M</td>\n",
       "      <td>298.1</td>\n",
       "      <td>308.6</td>\n",
       "      <td>1551</td>\n",
       "      <td>42.8</td>\n",
       "      <td>0</td>\n",
       "      <td>No Failure</td>\n",
       "      <td>10.5</td>\n",
       "      <td>6951.6</td>\n",
       "      <td>0.0</td>\n",
       "    </tr>\n",
       "    <tr>\n",
       "      <th>1</th>\n",
       "      <td>L</td>\n",
       "      <td>298.2</td>\n",
       "      <td>308.7</td>\n",
       "      <td>1408</td>\n",
       "      <td>46.3</td>\n",
       "      <td>3</td>\n",
       "      <td>No Failure</td>\n",
       "      <td>10.5</td>\n",
       "      <td>6826.7</td>\n",
       "      <td>138.9</td>\n",
       "    </tr>\n",
       "    <tr>\n",
       "      <th>2</th>\n",
       "      <td>L</td>\n",
       "      <td>298.2</td>\n",
       "      <td>308.7</td>\n",
       "      <td>1408</td>\n",
       "      <td>40.0</td>\n",
       "      <td>9</td>\n",
       "      <td>No Failure</td>\n",
       "      <td>10.5</td>\n",
       "      <td>5897.8</td>\n",
       "      <td>360.0</td>\n",
       "    </tr>\n",
       "    <tr>\n",
       "      <th>3</th>\n",
       "      <td>M</td>\n",
       "      <td>298.1</td>\n",
       "      <td>308.6</td>\n",
       "      <td>1425</td>\n",
       "      <td>41.9</td>\n",
       "      <td>11</td>\n",
       "      <td>No Failure</td>\n",
       "      <td>10.5</td>\n",
       "      <td>6252.6</td>\n",
       "      <td>460.9</td>\n",
       "    </tr>\n",
       "    <tr>\n",
       "      <th>4</th>\n",
       "      <td>L</td>\n",
       "      <td>298.1</td>\n",
       "      <td>308.6</td>\n",
       "      <td>1558</td>\n",
       "      <td>42.4</td>\n",
       "      <td>14</td>\n",
       "      <td>No Failure</td>\n",
       "      <td>10.5</td>\n",
       "      <td>6917.7</td>\n",
       "      <td>593.6</td>\n",
       "    </tr>\n",
       "  </tbody>\n",
       "</table>\n",
       "</div>"
      ],
      "text/plain": [
       "  type  air_temperature_k  process_temperature_k  rotational_speed_rpm  \\\n",
       "0    M              298.1                  308.6                  1551   \n",
       "1    L              298.2                  308.7                  1408   \n",
       "2    L              298.2                  308.7                  1408   \n",
       "3    M              298.1                  308.6                  1425   \n",
       "4    L              298.1                  308.6                  1558   \n",
       "\n",
       "   torque_nm  tool_wear_min failure_type  diff_temperature_air_process  \\\n",
       "0       42.8              0   No Failure                          10.5   \n",
       "1       46.3              3   No Failure                          10.5   \n",
       "2       40.0              9   No Failure                          10.5   \n",
       "3       41.9             11   No Failure                          10.5   \n",
       "4       42.4             14   No Failure                          10.5   \n",
       "\n",
       "   power_W  wear_x_torque_minNm  \n",
       "0   6951.6                  0.0  \n",
       "1   6826.7                138.9  \n",
       "2   5897.8                360.0  \n",
       "3   6252.6                460.9  \n",
       "4   6917.7                593.6  "
      ]
     },
     "execution_count": 3,
     "metadata": {},
     "output_type": "execute_result"
    }
   ],
   "source": [
    "df = pd.read_csv('desafio_manutencao_preditiva_treino_final.csv')\n",
    "df.head()"
   ]
  },
  {
   "cell_type": "code",
   "execution_count": 4,
   "id": "35fd9785",
   "metadata": {
    "ExecuteTime": {
     "end_time": "2023-02-03T02:07:23.118240Z",
     "start_time": "2023-02-03T02:07:23.087841Z"
    }
   },
   "outputs": [
    {
     "data": {
      "text/html": [
       "<div>\n",
       "<style scoped>\n",
       "    .dataframe tbody tr th:only-of-type {\n",
       "        vertical-align: middle;\n",
       "    }\n",
       "\n",
       "    .dataframe tbody tr th {\n",
       "        vertical-align: top;\n",
       "    }\n",
       "\n",
       "    .dataframe thead th {\n",
       "        text-align: right;\n",
       "    }\n",
       "</style>\n",
       "<table border=\"1\" class=\"dataframe\">\n",
       "  <thead>\n",
       "    <tr style=\"text-align: right;\">\n",
       "      <th></th>\n",
       "      <th>type</th>\n",
       "      <th>air_temperature_k</th>\n",
       "      <th>process_temperature_k</th>\n",
       "      <th>rotational_speed_rpm</th>\n",
       "      <th>torque_nm</th>\n",
       "      <th>tool_wear_min</th>\n",
       "      <th>diff_temperature_air_process</th>\n",
       "      <th>power_W</th>\n",
       "      <th>wear_x_torque_minNm</th>\n",
       "    </tr>\n",
       "  </thead>\n",
       "  <tbody>\n",
       "    <tr>\n",
       "      <th>0</th>\n",
       "      <td>M</td>\n",
       "      <td>298.1</td>\n",
       "      <td>308.6</td>\n",
       "      <td>1551</td>\n",
       "      <td>42.8</td>\n",
       "      <td>0</td>\n",
       "      <td>10.5</td>\n",
       "      <td>6951.6</td>\n",
       "      <td>0.0</td>\n",
       "    </tr>\n",
       "    <tr>\n",
       "      <th>1</th>\n",
       "      <td>L</td>\n",
       "      <td>298.2</td>\n",
       "      <td>308.7</td>\n",
       "      <td>1408</td>\n",
       "      <td>46.3</td>\n",
       "      <td>3</td>\n",
       "      <td>10.5</td>\n",
       "      <td>6826.7</td>\n",
       "      <td>138.9</td>\n",
       "    </tr>\n",
       "    <tr>\n",
       "      <th>2</th>\n",
       "      <td>L</td>\n",
       "      <td>298.2</td>\n",
       "      <td>308.7</td>\n",
       "      <td>1408</td>\n",
       "      <td>40.0</td>\n",
       "      <td>9</td>\n",
       "      <td>10.5</td>\n",
       "      <td>5897.8</td>\n",
       "      <td>360.0</td>\n",
       "    </tr>\n",
       "    <tr>\n",
       "      <th>3</th>\n",
       "      <td>M</td>\n",
       "      <td>298.1</td>\n",
       "      <td>308.6</td>\n",
       "      <td>1425</td>\n",
       "      <td>41.9</td>\n",
       "      <td>11</td>\n",
       "      <td>10.5</td>\n",
       "      <td>6252.6</td>\n",
       "      <td>460.9</td>\n",
       "    </tr>\n",
       "    <tr>\n",
       "      <th>4</th>\n",
       "      <td>L</td>\n",
       "      <td>298.1</td>\n",
       "      <td>308.6</td>\n",
       "      <td>1558</td>\n",
       "      <td>42.4</td>\n",
       "      <td>14</td>\n",
       "      <td>10.5</td>\n",
       "      <td>6917.7</td>\n",
       "      <td>593.6</td>\n",
       "    </tr>\n",
       "  </tbody>\n",
       "</table>\n",
       "</div>"
      ],
      "text/plain": [
       "  type  air_temperature_k  process_temperature_k  rotational_speed_rpm  \\\n",
       "0    M              298.1                  308.6                  1551   \n",
       "1    L              298.2                  308.7                  1408   \n",
       "2    L              298.2                  308.7                  1408   \n",
       "3    M              298.1                  308.6                  1425   \n",
       "4    L              298.1                  308.6                  1558   \n",
       "\n",
       "   torque_nm  tool_wear_min  diff_temperature_air_process  power_W  \\\n",
       "0       42.8              0                          10.5   6951.6   \n",
       "1       46.3              3                          10.5   6826.7   \n",
       "2       40.0              9                          10.5   5897.8   \n",
       "3       41.9             11                          10.5   6252.6   \n",
       "4       42.4             14                          10.5   6917.7   \n",
       "\n",
       "   wear_x_torque_minNm  \n",
       "0                  0.0  \n",
       "1                138.9  \n",
       "2                360.0  \n",
       "3                460.9  \n",
       "4                593.6  "
      ]
     },
     "metadata": {},
     "output_type": "display_data"
    },
    {
     "name": "stdout",
     "output_type": "stream",
     "text": [
      "0    No Failure\n",
      "1    No Failure\n",
      "2    No Failure\n",
      "3    No Failure\n",
      "4    No Failure\n",
      "Name: failure_type, dtype: object\n"
     ]
    }
   ],
   "source": [
    "X_columns = df.drop(columns=['failure_type']).columns\n",
    "X = df[X_columns]\n",
    "y = df['failure_type']\n",
    "display(X.head())\n",
    "print(y[:5])"
   ]
  },
  {
   "cell_type": "markdown",
   "id": "d5d8ff36",
   "metadata": {},
   "source": [
    "## Classificação binária\n",
    "\n",
    "Neste arquivo  abordaremos o caso de uma classificação binária, ou seja, Failure (1) ou No Failure (0). Para isso, vamos converter nossa variável y em binário sendo 0 para No Failure e 1 para qualquer outro tipo de falha. "
   ]
  },
  {
   "cell_type": "code",
   "execution_count": 5,
   "id": "6b644fe7",
   "metadata": {
    "ExecuteTime": {
     "end_time": "2023-02-03T02:07:23.127759Z",
     "start_time": "2023-02-03T02:07:23.120415Z"
    }
   },
   "outputs": [
    {
     "name": "stdout",
     "output_type": "stream",
     "text": [
      "232\n",
      "[0 0 0 0 0 0 0 0 0 0]\n",
      "0.9652017399130044\n"
     ]
    }
   ],
   "source": [
    "y = np.where(y == 'No Failure',0,1)\n",
    "print(y.sum())\n",
    "print(y[:10])\n",
    "print(1 - np.sum(y)/len(y))"
   ]
  },
  {
   "cell_type": "markdown",
   "id": "0a6b0552",
   "metadata": {
    "ExecuteTime": {
     "end_time": "2023-02-02T17:41:55.673958Z",
     "start_time": "2023-02-02T17:41:55.665646Z"
    }
   },
   "source": [
    "No total, são 232 registros indicando algum tipo de falha. Por isso, vamos comparar estes dados com o original do dataframe. \n",
    "\n",
    "Note que a ultima mensagem da linha faz referência à quantidade de 'Failure' em relação ao número de 'No Failure'. Em resumo, se um modelo cego chutasse que todas as saídas fossem 'No Failure', ele acertaria 96,5% das vezes. Isso é um indicativo de que a acurácia não é o modelo adequado para avaliar estes dados. "
   ]
  },
  {
   "cell_type": "code",
   "execution_count": 6,
   "id": "92a0db22",
   "metadata": {
    "ExecuteTime": {
     "end_time": "2023-02-03T02:07:23.140102Z",
     "start_time": "2023-02-03T02:07:23.129870Z"
    }
   },
   "outputs": [
    {
     "name": "stdout",
     "output_type": "stream",
     "text": [
      "232\n"
     ]
    },
    {
     "data": {
      "text/plain": [
       "0    No Failure\n",
       "1    No Failure\n",
       "2    No Failure\n",
       "3    No Failure\n",
       "4    No Failure\n",
       "5    No Failure\n",
       "6    No Failure\n",
       "7    No Failure\n",
       "8    No Failure\n",
       "9    No Failure\n",
       "Name: failure_type, dtype: object"
      ]
     },
     "execution_count": 6,
     "metadata": {},
     "output_type": "execute_result"
    }
   ],
   "source": [
    "print(df['failure_type'][df['failure_type'] != 'No Failure'].value_counts().sum())\n",
    "df['failure_type'].head(10)"
   ]
  },
  {
   "cell_type": "markdown",
   "id": "d1c4418f",
   "metadata": {},
   "source": [
    "Como os os registros batem, podemos continuar nossa análise. Primeiramente vamos dividor o conjunto em dados de treino e dados de validação. "
   ]
  },
  {
   "cell_type": "code",
   "execution_count": null,
   "id": "3654ef98",
   "metadata": {
    "ExecuteTime": {
     "end_time": "2023-02-02T20:45:27.536485Z",
     "start_time": "2023-02-02T20:45:27.187010Z"
    }
   },
   "outputs": [],
   "source": []
  },
  {
   "cell_type": "code",
   "execution_count": 7,
   "id": "8203320d",
   "metadata": {
    "ExecuteTime": {
     "end_time": "2023-02-03T02:07:23.150831Z",
     "start_time": "2023-02-03T02:07:23.142696Z"
    }
   },
   "outputs": [
    {
     "name": "stdout",
     "output_type": "stream",
     "text": [
      "0.03536219459922846 0.033483258370814596\n"
     ]
    }
   ],
   "source": [
    "X_train, X_val,y_train, y_val = train_test_split(X,y,test_size=0.30,random_state=42)\n",
    "print(np.sum(y_train)/len(y_train),np.sum(y_val)/len(y_val))"
   ]
  },
  {
   "cell_type": "markdown",
   "id": "f279334d",
   "metadata": {},
   "source": [
    "Por tratar-se de dados desbalanceados, vamos tentar uma abordagem na qual fazemos o balanço das classes. "
   ]
  },
  {
   "cell_type": "code",
   "execution_count": 8,
   "id": "33f00e5e",
   "metadata": {
    "ExecuteTime": {
     "end_time": "2023-02-03T02:07:23.160045Z",
     "start_time": "2023-02-03T02:07:23.152958Z"
    }
   },
   "outputs": [
    {
     "data": {
      "text/plain": [
       "array([ 0.51832926, 14.13939394])"
      ]
     },
     "execution_count": 8,
     "metadata": {},
     "output_type": "execute_result"
    }
   ],
   "source": [
    "class_weights = compute_class_weight(\n",
    "    class_weight='balanced', \n",
    "    classes = np.unique(y_train), y = y_train)\n",
    "class_weights"
   ]
  },
  {
   "cell_type": "code",
   "execution_count": 9,
   "id": "531a1195",
   "metadata": {
    "ExecuteTime": {
     "end_time": "2023-02-03T02:07:23.168238Z",
     "start_time": "2023-02-03T02:07:23.162316Z"
    }
   },
   "outputs": [
    {
     "name": "stdout",
     "output_type": "stream",
     "text": [
      "Categorical features: ['type']\n",
      "Numerical features: ['air_temperature_k', 'process_temperature_k', 'rotational_speed_rpm', 'torque_nm', 'tool_wear_min', 'diff_temperature_air_process', 'power_W', 'wear_x_torque_minNm']\n"
     ]
    }
   ],
   "source": [
    "#Transformation od categorical features\n",
    "cat_features = ['type']\n",
    "print(f'Categorical features: {cat_features}')\n",
    "num_features = list(df.select_dtypes(exclude='object').columns)\n",
    "print(f'Numerical features: {num_features}')"
   ]
  },
  {
   "cell_type": "code",
   "execution_count": 10,
   "id": "30fff594",
   "metadata": {
    "ExecuteTime": {
     "end_time": "2023-02-03T02:07:23.176386Z",
     "start_time": "2023-02-03T02:07:23.172144Z"
    }
   },
   "outputs": [],
   "source": [
    "#####CRIANDO UM SCORE######\n",
    "def false_negative_rate(y_true, y_pred):\n",
    "    \"\"\"\n",
    "    Esta métrica calcula a taxa de falso negativo (TFN) usando os valores reais e previstos da variável alvo. \n",
    "    A TFN é definida como a proporção de falsos negativos (FN) dentro de todos os positivos reais (TP + FN).\n",
    "        \n",
    "    Parametros:\n",
    "        - y_true (array-like): An array or list containing the actual target variable values\n",
    "        - y_pred (array-like): An array or list containing the predicted target variable values\n",
    "    \n",
    "    Returns:\n",
    "        - float: o valor TFN calculado\n",
    "    \"\"\"\n",
    "    tn, fp, fn, tp = confusion_matrix(y_true, y_pred, labels=[0,1]).ravel()\n",
    "    \n",
    "    return (abs(fn / (fn + tp)))"
   ]
  },
  {
   "cell_type": "code",
   "execution_count": 11,
   "id": "17640655",
   "metadata": {
    "ExecuteTime": {
     "end_time": "2023-02-03T02:07:23.183153Z",
     "start_time": "2023-02-03T02:07:23.179598Z"
    }
   },
   "outputs": [],
   "source": [
    "miss_rate = make_scorer(\n",
    "    false_negative_rate,\n",
    "    greater_is_better=False,\n",
    "    needs_proba=False,\n",
    ")"
   ]
  },
  {
   "cell_type": "markdown",
   "id": "aa4933b2",
   "metadata": {},
   "source": [
    "Acabamos de criar a métrica acima, na qual quanto menor, melhor. \n",
    "Basicamente ela avalia, dentre os dados que REALMENTE FALHAM, quais estamos errando. Em tese, na pior das hipóteses, erraremos todos, dando um resultado igual a 1. \n",
    "Resultados próximos de zero indica que estamos diminuindo o numerador, ou seja, os falsos negativos. Caso não tenhamos nenhum falso negativo, o resultado dá zero. \n",
    "\n",
    "Julgo que esta métrica seja relevante pois é melhor prever que um equipamento dará problema, e dar a devida revisão para evitar, do que acabar com uma falha em uma peça que não havia sido prevista, logo não estava nem sendo monitorada. "
   ]
  },
  {
   "cell_type": "markdown",
   "id": "182da620",
   "metadata": {
    "heading_collapsed": true
   },
   "source": [
    "## Regressão logística"
   ]
  },
  {
   "cell_type": "code",
   "execution_count": 12,
   "id": "ca22aa31",
   "metadata": {
    "ExecuteTime": {
     "end_time": "2023-02-03T02:07:23.219496Z",
     "start_time": "2023-02-03T02:07:23.185753Z"
    },
    "hidden": true
   },
   "outputs": [
    {
     "data": {
      "text/html": [
       "<style>#sk-3796b60e-98f5-4244-a446-24896cc815f5 {color: black;background-color: white;}#sk-3796b60e-98f5-4244-a446-24896cc815f5 pre{padding: 0;}#sk-3796b60e-98f5-4244-a446-24896cc815f5 div.sk-toggleable {background-color: white;}#sk-3796b60e-98f5-4244-a446-24896cc815f5 label.sk-toggleable__label {cursor: pointer;display: block;width: 100%;margin-bottom: 0;padding: 0.3em;box-sizing: border-box;text-align: center;}#sk-3796b60e-98f5-4244-a446-24896cc815f5 div.sk-toggleable__content {max-height: 0;max-width: 0;overflow: hidden;text-align: left;background-color: #f0f8ff;}#sk-3796b60e-98f5-4244-a446-24896cc815f5 div.sk-toggleable__content pre {margin: 0.2em;color: black;border-radius: 0.25em;background-color: #f0f8ff;}#sk-3796b60e-98f5-4244-a446-24896cc815f5 input.sk-toggleable__control:checked~div.sk-toggleable__content {max-height: 200px;max-width: 100%;overflow: auto;}#sk-3796b60e-98f5-4244-a446-24896cc815f5 div.sk-estimator input.sk-toggleable__control:checked~label.sk-toggleable__label {background-color: #d4ebff;}#sk-3796b60e-98f5-4244-a446-24896cc815f5 div.sk-label input.sk-toggleable__control:checked~label.sk-toggleable__label {background-color: #d4ebff;}#sk-3796b60e-98f5-4244-a446-24896cc815f5 input.sk-hidden--visually {border: 0;clip: rect(1px 1px 1px 1px);clip: rect(1px, 1px, 1px, 1px);height: 1px;margin: -1px;overflow: hidden;padding: 0;position: absolute;width: 1px;}#sk-3796b60e-98f5-4244-a446-24896cc815f5 div.sk-estimator {font-family: monospace;background-color: #f0f8ff;border: 1px dotted black;border-radius: 0.25em;box-sizing: border-box;margin-bottom: 0.5em;}#sk-3796b60e-98f5-4244-a446-24896cc815f5 div.sk-estimator:hover {background-color: #d4ebff;}#sk-3796b60e-98f5-4244-a446-24896cc815f5 div.sk-parallel-item::after {content: \"\";width: 100%;border-bottom: 1px solid gray;flex-grow: 1;}#sk-3796b60e-98f5-4244-a446-24896cc815f5 div.sk-label:hover label.sk-toggleable__label {background-color: #d4ebff;}#sk-3796b60e-98f5-4244-a446-24896cc815f5 div.sk-serial::before {content: \"\";position: absolute;border-left: 1px solid gray;box-sizing: border-box;top: 2em;bottom: 0;left: 50%;}#sk-3796b60e-98f5-4244-a446-24896cc815f5 div.sk-serial {display: flex;flex-direction: column;align-items: center;background-color: white;padding-right: 0.2em;padding-left: 0.2em;}#sk-3796b60e-98f5-4244-a446-24896cc815f5 div.sk-item {z-index: 1;}#sk-3796b60e-98f5-4244-a446-24896cc815f5 div.sk-parallel {display: flex;align-items: stretch;justify-content: center;background-color: white;}#sk-3796b60e-98f5-4244-a446-24896cc815f5 div.sk-parallel::before {content: \"\";position: absolute;border-left: 1px solid gray;box-sizing: border-box;top: 2em;bottom: 0;left: 50%;}#sk-3796b60e-98f5-4244-a446-24896cc815f5 div.sk-parallel-item {display: flex;flex-direction: column;position: relative;background-color: white;}#sk-3796b60e-98f5-4244-a446-24896cc815f5 div.sk-parallel-item:first-child::after {align-self: flex-end;width: 50%;}#sk-3796b60e-98f5-4244-a446-24896cc815f5 div.sk-parallel-item:last-child::after {align-self: flex-start;width: 50%;}#sk-3796b60e-98f5-4244-a446-24896cc815f5 div.sk-parallel-item:only-child::after {width: 0;}#sk-3796b60e-98f5-4244-a446-24896cc815f5 div.sk-dashed-wrapped {border: 1px dashed gray;margin: 0 0.4em 0.5em 0.4em;box-sizing: border-box;padding-bottom: 0.4em;background-color: white;position: relative;}#sk-3796b60e-98f5-4244-a446-24896cc815f5 div.sk-label label {font-family: monospace;font-weight: bold;background-color: white;display: inline-block;line-height: 1.2em;}#sk-3796b60e-98f5-4244-a446-24896cc815f5 div.sk-label-container {position: relative;z-index: 2;text-align: center;}#sk-3796b60e-98f5-4244-a446-24896cc815f5 div.sk-container {display: inline-block;position: relative;}</style><div id=\"sk-3796b60e-98f5-4244-a446-24896cc815f5\" class\"sk-top-container\"><div class=\"sk-container\"><div class=\"sk-item sk-dashed-wrapped\"><div class=\"sk-label-container\"><div class=\"sk-label sk-toggleable\"><input class=\"sk-toggleable__control sk-hidden--visually\" id=\"4bd920f2-731e-4e95-b2e5-8101b1e3c941\" type=\"checkbox\" ><label class=\"sk-toggleable__label\" for=\"4bd920f2-731e-4e95-b2e5-8101b1e3c941\">Pipeline</label><div class=\"sk-toggleable__content\"><pre>Pipeline(steps=[('column_transformation',\n",
       "                 ColumnTransformer(transformers=[('categorical',\n",
       "                                                  OneHotEncoder(handle_unknown='ignore'),\n",
       "                                                  ['type']),\n",
       "                                                 ('numerical', StandardScaler(),\n",
       "                                                  ['air_temperature_k',\n",
       "                                                   'process_temperature_k',\n",
       "                                                   'rotational_speed_rpm',\n",
       "                                                   'torque_nm', 'tool_wear_min',\n",
       "                                                   'diff_temperature_air_process',\n",
       "                                                   'power_W',\n",
       "                                                   'wear_x_torque_minNm'])])),\n",
       "                ('Classifier', LogisticRegression(max_iter=500))])</pre></div></div></div><div class=\"sk-serial\"><div class=\"sk-item sk-dashed-wrapped\"><div class=\"sk-label-container\"><div class=\"sk-label sk-toggleable\"><input class=\"sk-toggleable__control sk-hidden--visually\" id=\"4519c190-f2b6-4d20-93a1-9f210d9f7300\" type=\"checkbox\" ><label class=\"sk-toggleable__label\" for=\"4519c190-f2b6-4d20-93a1-9f210d9f7300\">column_transformation: ColumnTransformer</label><div class=\"sk-toggleable__content\"><pre>ColumnTransformer(transformers=[('categorical',\n",
       "                                 OneHotEncoder(handle_unknown='ignore'),\n",
       "                                 ['type']),\n",
       "                                ('numerical', StandardScaler(),\n",
       "                                 ['air_temperature_k', 'process_temperature_k',\n",
       "                                  'rotational_speed_rpm', 'torque_nm',\n",
       "                                  'tool_wear_min',\n",
       "                                  'diff_temperature_air_process', 'power_W',\n",
       "                                  'wear_x_torque_minNm'])])</pre></div></div></div><div class=\"sk-parallel\"><div class=\"sk-parallel-item\"><div class=\"sk-item\"><div class=\"sk-label-container\"><div class=\"sk-label sk-toggleable\"><input class=\"sk-toggleable__control sk-hidden--visually\" id=\"59dfb9a6-daf4-474f-90f8-e47beeed8f87\" type=\"checkbox\" ><label class=\"sk-toggleable__label\" for=\"59dfb9a6-daf4-474f-90f8-e47beeed8f87\">categorical</label><div class=\"sk-toggleable__content\"><pre>['type']</pre></div></div></div><div class=\"sk-serial\"><div class=\"sk-item\"><div class=\"sk-estimator sk-toggleable\"><input class=\"sk-toggleable__control sk-hidden--visually\" id=\"5998d778-d20c-47d2-b22a-53033a68a7bf\" type=\"checkbox\" ><label class=\"sk-toggleable__label\" for=\"5998d778-d20c-47d2-b22a-53033a68a7bf\">OneHotEncoder</label><div class=\"sk-toggleable__content\"><pre>OneHotEncoder(handle_unknown='ignore')</pre></div></div></div></div></div></div><div class=\"sk-parallel-item\"><div class=\"sk-item\"><div class=\"sk-label-container\"><div class=\"sk-label sk-toggleable\"><input class=\"sk-toggleable__control sk-hidden--visually\" id=\"7056d48b-1975-493a-b8b0-6ffc79e278b1\" type=\"checkbox\" ><label class=\"sk-toggleable__label\" for=\"7056d48b-1975-493a-b8b0-6ffc79e278b1\">numerical</label><div class=\"sk-toggleable__content\"><pre>['air_temperature_k', 'process_temperature_k', 'rotational_speed_rpm', 'torque_nm', 'tool_wear_min', 'diff_temperature_air_process', 'power_W', 'wear_x_torque_minNm']</pre></div></div></div><div class=\"sk-serial\"><div class=\"sk-item\"><div class=\"sk-estimator sk-toggleable\"><input class=\"sk-toggleable__control sk-hidden--visually\" id=\"cbc678c3-35b9-4cfd-8ae7-3669bd9d84d8\" type=\"checkbox\" ><label class=\"sk-toggleable__label\" for=\"cbc678c3-35b9-4cfd-8ae7-3669bd9d84d8\">StandardScaler</label><div class=\"sk-toggleable__content\"><pre>StandardScaler()</pre></div></div></div></div></div></div></div></div><div class=\"sk-item\"><div class=\"sk-estimator sk-toggleable\"><input class=\"sk-toggleable__control sk-hidden--visually\" id=\"58e58d00-656b-4fe2-b827-23e18e2a62a4\" type=\"checkbox\" ><label class=\"sk-toggleable__label\" for=\"58e58d00-656b-4fe2-b827-23e18e2a62a4\">LogisticRegression</label><div class=\"sk-toggleable__content\"><pre>LogisticRegression(max_iter=500)</pre></div></div></div></div></div></div></div>"
      ],
      "text/plain": [
       "Pipeline(steps=[('column_transformation',\n",
       "                 ColumnTransformer(transformers=[('categorical',\n",
       "                                                  OneHotEncoder(handle_unknown='ignore'),\n",
       "                                                  ['type']),\n",
       "                                                 ('numerical', StandardScaler(),\n",
       "                                                  ['air_temperature_k',\n",
       "                                                   'process_temperature_k',\n",
       "                                                   'rotational_speed_rpm',\n",
       "                                                   'torque_nm', 'tool_wear_min',\n",
       "                                                   'diff_temperature_air_process',\n",
       "                                                   'power_W',\n",
       "                                                   'wear_x_torque_minNm'])])),\n",
       "                ('Classifier', LogisticRegression(max_iter=500))])"
      ]
     },
     "metadata": {},
     "output_type": "display_data"
    }
   ],
   "source": [
    "#Transformação:\n",
    "#    categóricos serão submetidos a One hot Encoder\n",
    "#    numéricos serão submetidos a StandardScaler\n",
    "#\n",
    "\n",
    "transformation = ColumnTransformer(\n",
    "    [('categorical',OneHotEncoder(handle_unknown='ignore'),cat_features),\n",
    "    ('numerical',StandardScaler(),num_features)]\n",
    ")\n",
    "\n",
    "#Modelo usando os dados balanceados pelas classes\n",
    "#model = Pipeline(steps=[\n",
    "#    ('column_transformation',transformation),\n",
    "#    ('Classifier',LogisticRegression(max_iter=500,class_weight={0:class_weights[0],1:class_weights[1]}))\n",
    "#])\n",
    "\n",
    "model = Pipeline(steps=[\n",
    "    ('column_transformation',transformation),\n",
    "    ('Classifier',LogisticRegression(max_iter=500))\n",
    "])\n",
    "\n",
    "\n",
    "display(model)"
   ]
  },
  {
   "cell_type": "code",
   "execution_count": 13,
   "id": "8563eb24",
   "metadata": {
    "ExecuteTime": {
     "end_time": "2023-02-03T02:07:27.756142Z",
     "start_time": "2023-02-03T02:07:23.224189Z"
    },
    "hidden": true
   },
   "outputs": [
    {
     "data": {
      "text/html": [
       "<style>#sk-8023b416-1244-4ba6-ad2a-874d6f5ab9b6 {color: black;background-color: white;}#sk-8023b416-1244-4ba6-ad2a-874d6f5ab9b6 pre{padding: 0;}#sk-8023b416-1244-4ba6-ad2a-874d6f5ab9b6 div.sk-toggleable {background-color: white;}#sk-8023b416-1244-4ba6-ad2a-874d6f5ab9b6 label.sk-toggleable__label {cursor: pointer;display: block;width: 100%;margin-bottom: 0;padding: 0.3em;box-sizing: border-box;text-align: center;}#sk-8023b416-1244-4ba6-ad2a-874d6f5ab9b6 div.sk-toggleable__content {max-height: 0;max-width: 0;overflow: hidden;text-align: left;background-color: #f0f8ff;}#sk-8023b416-1244-4ba6-ad2a-874d6f5ab9b6 div.sk-toggleable__content pre {margin: 0.2em;color: black;border-radius: 0.25em;background-color: #f0f8ff;}#sk-8023b416-1244-4ba6-ad2a-874d6f5ab9b6 input.sk-toggleable__control:checked~div.sk-toggleable__content {max-height: 200px;max-width: 100%;overflow: auto;}#sk-8023b416-1244-4ba6-ad2a-874d6f5ab9b6 div.sk-estimator input.sk-toggleable__control:checked~label.sk-toggleable__label {background-color: #d4ebff;}#sk-8023b416-1244-4ba6-ad2a-874d6f5ab9b6 div.sk-label input.sk-toggleable__control:checked~label.sk-toggleable__label {background-color: #d4ebff;}#sk-8023b416-1244-4ba6-ad2a-874d6f5ab9b6 input.sk-hidden--visually {border: 0;clip: rect(1px 1px 1px 1px);clip: rect(1px, 1px, 1px, 1px);height: 1px;margin: -1px;overflow: hidden;padding: 0;position: absolute;width: 1px;}#sk-8023b416-1244-4ba6-ad2a-874d6f5ab9b6 div.sk-estimator {font-family: monospace;background-color: #f0f8ff;border: 1px dotted black;border-radius: 0.25em;box-sizing: border-box;margin-bottom: 0.5em;}#sk-8023b416-1244-4ba6-ad2a-874d6f5ab9b6 div.sk-estimator:hover {background-color: #d4ebff;}#sk-8023b416-1244-4ba6-ad2a-874d6f5ab9b6 div.sk-parallel-item::after {content: \"\";width: 100%;border-bottom: 1px solid gray;flex-grow: 1;}#sk-8023b416-1244-4ba6-ad2a-874d6f5ab9b6 div.sk-label:hover label.sk-toggleable__label {background-color: #d4ebff;}#sk-8023b416-1244-4ba6-ad2a-874d6f5ab9b6 div.sk-serial::before {content: \"\";position: absolute;border-left: 1px solid gray;box-sizing: border-box;top: 2em;bottom: 0;left: 50%;}#sk-8023b416-1244-4ba6-ad2a-874d6f5ab9b6 div.sk-serial {display: flex;flex-direction: column;align-items: center;background-color: white;padding-right: 0.2em;padding-left: 0.2em;}#sk-8023b416-1244-4ba6-ad2a-874d6f5ab9b6 div.sk-item {z-index: 1;}#sk-8023b416-1244-4ba6-ad2a-874d6f5ab9b6 div.sk-parallel {display: flex;align-items: stretch;justify-content: center;background-color: white;}#sk-8023b416-1244-4ba6-ad2a-874d6f5ab9b6 div.sk-parallel::before {content: \"\";position: absolute;border-left: 1px solid gray;box-sizing: border-box;top: 2em;bottom: 0;left: 50%;}#sk-8023b416-1244-4ba6-ad2a-874d6f5ab9b6 div.sk-parallel-item {display: flex;flex-direction: column;position: relative;background-color: white;}#sk-8023b416-1244-4ba6-ad2a-874d6f5ab9b6 div.sk-parallel-item:first-child::after {align-self: flex-end;width: 50%;}#sk-8023b416-1244-4ba6-ad2a-874d6f5ab9b6 div.sk-parallel-item:last-child::after {align-self: flex-start;width: 50%;}#sk-8023b416-1244-4ba6-ad2a-874d6f5ab9b6 div.sk-parallel-item:only-child::after {width: 0;}#sk-8023b416-1244-4ba6-ad2a-874d6f5ab9b6 div.sk-dashed-wrapped {border: 1px dashed gray;margin: 0 0.4em 0.5em 0.4em;box-sizing: border-box;padding-bottom: 0.4em;background-color: white;position: relative;}#sk-8023b416-1244-4ba6-ad2a-874d6f5ab9b6 div.sk-label label {font-family: monospace;font-weight: bold;background-color: white;display: inline-block;line-height: 1.2em;}#sk-8023b416-1244-4ba6-ad2a-874d6f5ab9b6 div.sk-label-container {position: relative;z-index: 2;text-align: center;}#sk-8023b416-1244-4ba6-ad2a-874d6f5ab9b6 div.sk-container {display: inline-block;position: relative;}</style><div id=\"sk-8023b416-1244-4ba6-ad2a-874d6f5ab9b6\" class\"sk-top-container\"><div class=\"sk-container\"><div class=\"sk-item sk-dashed-wrapped\"><div class=\"sk-label-container\"><div class=\"sk-label sk-toggleable\"><input class=\"sk-toggleable__control sk-hidden--visually\" id=\"05c93d26-b709-485c-acdd-bf6dd2976cce\" type=\"checkbox\" ><label class=\"sk-toggleable__label\" for=\"05c93d26-b709-485c-acdd-bf6dd2976cce\">GridSearchCV</label><div class=\"sk-toggleable__content\"><pre>GridSearchCV(cv=5,\n",
       "             estimator=Pipeline(steps=[('column_transformation',\n",
       "                                        ColumnTransformer(transformers=[('categorical',\n",
       "                                                                         OneHotEncoder(handle_unknown='ignore'),\n",
       "                                                                         ['type']),\n",
       "                                                                        ('numerical',\n",
       "                                                                         StandardScaler(),\n",
       "                                                                         ['air_temperature_k',\n",
       "                                                                          'process_temperature_k',\n",
       "                                                                          'rotational_speed_rpm',\n",
       "                                                                          'torque_nm',\n",
       "                                                                          'tool_wear_min',\n",
       "                                                                          'diff_temperature_air_process',\n",
       "                                                                          'power_W',\n",
       "                                                                          'wear_x_torque_minNm'])])),\n",
       "                                       ('Classifier',\n",
       "                                        LogisticRegression(max_iter=500))]),\n",
       "             param_grid={'Classifier__C': [0.001, 0.01, 0.1, 1, 5, 10],\n",
       "                         'Classifier__max_iter': [100, 200, 300, 400, 500]},\n",
       "             scoring=make_scorer(false_negative_rate, greater_is_better=False))</pre></div></div></div><div class=\"sk-parallel\"><div class=\"sk-parallel-item\"><div class=\"sk-item\"><div class=\"sk-serial\"><div class=\"sk-item\"><div class=\"sk-serial\"><div class=\"sk-item sk-dashed-wrapped\"><div class=\"sk-label-container\"><div class=\"sk-label sk-toggleable\"><input class=\"sk-toggleable__control sk-hidden--visually\" id=\"32d930c4-1039-4618-84ef-f3cb69d56e81\" type=\"checkbox\" ><label class=\"sk-toggleable__label\" for=\"32d930c4-1039-4618-84ef-f3cb69d56e81\">column_transformation: ColumnTransformer</label><div class=\"sk-toggleable__content\"><pre>ColumnTransformer(transformers=[('categorical',\n",
       "                                 OneHotEncoder(handle_unknown='ignore'),\n",
       "                                 ['type']),\n",
       "                                ('numerical', StandardScaler(),\n",
       "                                 ['air_temperature_k', 'process_temperature_k',\n",
       "                                  'rotational_speed_rpm', 'torque_nm',\n",
       "                                  'tool_wear_min',\n",
       "                                  'diff_temperature_air_process', 'power_W',\n",
       "                                  'wear_x_torque_minNm'])])</pre></div></div></div><div class=\"sk-parallel\"><div class=\"sk-parallel-item\"><div class=\"sk-item\"><div class=\"sk-label-container\"><div class=\"sk-label sk-toggleable\"><input class=\"sk-toggleable__control sk-hidden--visually\" id=\"27645f00-1184-4153-9d9f-0416264a339d\" type=\"checkbox\" ><label class=\"sk-toggleable__label\" for=\"27645f00-1184-4153-9d9f-0416264a339d\">categorical</label><div class=\"sk-toggleable__content\"><pre>['type']</pre></div></div></div><div class=\"sk-serial\"><div class=\"sk-item\"><div class=\"sk-estimator sk-toggleable\"><input class=\"sk-toggleable__control sk-hidden--visually\" id=\"d310b41a-7f57-4945-8241-da9e3c33712b\" type=\"checkbox\" ><label class=\"sk-toggleable__label\" for=\"d310b41a-7f57-4945-8241-da9e3c33712b\">OneHotEncoder</label><div class=\"sk-toggleable__content\"><pre>OneHotEncoder(handle_unknown='ignore')</pre></div></div></div></div></div></div><div class=\"sk-parallel-item\"><div class=\"sk-item\"><div class=\"sk-label-container\"><div class=\"sk-label sk-toggleable\"><input class=\"sk-toggleable__control sk-hidden--visually\" id=\"ffa699ad-ab16-4800-9007-68db78ab48e5\" type=\"checkbox\" ><label class=\"sk-toggleable__label\" for=\"ffa699ad-ab16-4800-9007-68db78ab48e5\">numerical</label><div class=\"sk-toggleable__content\"><pre>['air_temperature_k', 'process_temperature_k', 'rotational_speed_rpm', 'torque_nm', 'tool_wear_min', 'diff_temperature_air_process', 'power_W', 'wear_x_torque_minNm']</pre></div></div></div><div class=\"sk-serial\"><div class=\"sk-item\"><div class=\"sk-estimator sk-toggleable\"><input class=\"sk-toggleable__control sk-hidden--visually\" id=\"9a06fb24-2121-4cef-9896-7292253bf985\" type=\"checkbox\" ><label class=\"sk-toggleable__label\" for=\"9a06fb24-2121-4cef-9896-7292253bf985\">StandardScaler</label><div class=\"sk-toggleable__content\"><pre>StandardScaler()</pre></div></div></div></div></div></div></div></div><div class=\"sk-item\"><div class=\"sk-estimator sk-toggleable\"><input class=\"sk-toggleable__control sk-hidden--visually\" id=\"9795d618-388d-4cee-93fc-9f5a599d5ad8\" type=\"checkbox\" ><label class=\"sk-toggleable__label\" for=\"9795d618-388d-4cee-93fc-9f5a599d5ad8\">LogisticRegression</label><div class=\"sk-toggleable__content\"><pre>LogisticRegression(max_iter=500)</pre></div></div></div></div></div></div></div></div></div></div></div></div>"
      ],
      "text/plain": [
       "GridSearchCV(cv=5,\n",
       "             estimator=Pipeline(steps=[('column_transformation',\n",
       "                                        ColumnTransformer(transformers=[('categorical',\n",
       "                                                                         OneHotEncoder(handle_unknown='ignore'),\n",
       "                                                                         ['type']),\n",
       "                                                                        ('numerical',\n",
       "                                                                         StandardScaler(),\n",
       "                                                                         ['air_temperature_k',\n",
       "                                                                          'process_temperature_k',\n",
       "                                                                          'rotational_speed_rpm',\n",
       "                                                                          'torque_nm',\n",
       "                                                                          'tool_wear_min',\n",
       "                                                                          'diff_temperature_air_process',\n",
       "                                                                          'power_W',\n",
       "                                                                          'wear_x_torque_minNm'])])),\n",
       "                                       ('Classifier',\n",
       "                                        LogisticRegression(max_iter=500))]),\n",
       "             param_grid={'Classifier__C': [0.001, 0.01, 0.1, 1, 5, 10],\n",
       "                         'Classifier__max_iter': [100, 200, 300, 400, 500]},\n",
       "             scoring=make_scorer(false_negative_rate, greater_is_better=False))"
      ]
     },
     "execution_count": 13,
     "metadata": {},
     "output_type": "execute_result"
    }
   ],
   "source": [
    "param_grid = {\n",
    "    'Classifier__C':[0.001,0.01,0.1,1,5,10],\n",
    "    'Classifier__max_iter':[100,200,300,400,500]\n",
    "}\n",
    "\n",
    "search = GridSearchCV(model,\n",
    "                      param_grid,\n",
    "                      scoring= miss_rate,\n",
    "                     cv = 5)\n",
    "search.fit(X_train,y_train)"
   ]
  },
  {
   "cell_type": "code",
   "execution_count": 14,
   "id": "381ca67f",
   "metadata": {
    "ExecuteTime": {
     "end_time": "2023-02-03T02:07:27.772741Z",
     "start_time": "2023-02-03T02:07:27.762503Z"
    },
    "hidden": true
   },
   "outputs": [
    {
     "data": {
      "text/plain": [
       "{'Classifier__C': 5, 'Classifier__max_iter': 100}"
      ]
     },
     "execution_count": 14,
     "metadata": {},
     "output_type": "execute_result"
    }
   ],
   "source": [
    "search.best_params_"
   ]
  },
  {
   "cell_type": "code",
   "execution_count": 15,
   "id": "8c339275",
   "metadata": {
    "ExecuteTime": {
     "end_time": "2023-02-03T02:07:27.786073Z",
     "start_time": "2023-02-03T02:07:27.777147Z"
    },
    "hidden": true
   },
   "outputs": [
    {
     "data": {
      "text/plain": [
       "-0.8646464646464643"
      ]
     },
     "execution_count": 15,
     "metadata": {},
     "output_type": "execute_result"
    }
   ],
   "source": [
    "search.cv_results_['mean_test_score'].mean()"
   ]
  },
  {
   "cell_type": "code",
   "execution_count": 16,
   "id": "0c6789c3",
   "metadata": {
    "ExecuteTime": {
     "end_time": "2023-02-03T02:07:27.804452Z",
     "start_time": "2023-02-03T02:07:27.788419Z"
    },
    "hidden": true
   },
   "outputs": [
    {
     "data": {
      "text/plain": [
       "<bound method Pipeline.get_params of Pipeline(steps=[('column_transformation',\n",
       "                 ColumnTransformer(transformers=[('categorical',\n",
       "                                                  OneHotEncoder(handle_unknown='ignore'),\n",
       "                                                  ['type']),\n",
       "                                                 ('numerical', StandardScaler(),\n",
       "                                                  ['air_temperature_k',\n",
       "                                                   'process_temperature_k',\n",
       "                                                   'rotational_speed_rpm',\n",
       "                                                   'torque_nm', 'tool_wear_min',\n",
       "                                                   'diff_temperature_air_process',\n",
       "                                                   'power_W',\n",
       "                                                   'wear_x_torque_minNm'])])),\n",
       "                ('Classifier', LogisticRegression(max_iter=500))])>"
      ]
     },
     "execution_count": 16,
     "metadata": {},
     "output_type": "execute_result"
    }
   ],
   "source": [
    "model.get_params"
   ]
  },
  {
   "cell_type": "code",
   "execution_count": 17,
   "id": "12c24853",
   "metadata": {
    "ExecuteTime": {
     "end_time": "2023-02-03T02:07:27.829879Z",
     "start_time": "2023-02-03T02:07:27.806678Z"
    },
    "hidden": true
   },
   "outputs": [
    {
     "data": {
      "text/html": [
       "<style>#sk-8e74c9c0-f32e-42c4-8437-ee47dc8eb7e5 {color: black;background-color: white;}#sk-8e74c9c0-f32e-42c4-8437-ee47dc8eb7e5 pre{padding: 0;}#sk-8e74c9c0-f32e-42c4-8437-ee47dc8eb7e5 div.sk-toggleable {background-color: white;}#sk-8e74c9c0-f32e-42c4-8437-ee47dc8eb7e5 label.sk-toggleable__label {cursor: pointer;display: block;width: 100%;margin-bottom: 0;padding: 0.3em;box-sizing: border-box;text-align: center;}#sk-8e74c9c0-f32e-42c4-8437-ee47dc8eb7e5 div.sk-toggleable__content {max-height: 0;max-width: 0;overflow: hidden;text-align: left;background-color: #f0f8ff;}#sk-8e74c9c0-f32e-42c4-8437-ee47dc8eb7e5 div.sk-toggleable__content pre {margin: 0.2em;color: black;border-radius: 0.25em;background-color: #f0f8ff;}#sk-8e74c9c0-f32e-42c4-8437-ee47dc8eb7e5 input.sk-toggleable__control:checked~div.sk-toggleable__content {max-height: 200px;max-width: 100%;overflow: auto;}#sk-8e74c9c0-f32e-42c4-8437-ee47dc8eb7e5 div.sk-estimator input.sk-toggleable__control:checked~label.sk-toggleable__label {background-color: #d4ebff;}#sk-8e74c9c0-f32e-42c4-8437-ee47dc8eb7e5 div.sk-label input.sk-toggleable__control:checked~label.sk-toggleable__label {background-color: #d4ebff;}#sk-8e74c9c0-f32e-42c4-8437-ee47dc8eb7e5 input.sk-hidden--visually {border: 0;clip: rect(1px 1px 1px 1px);clip: rect(1px, 1px, 1px, 1px);height: 1px;margin: -1px;overflow: hidden;padding: 0;position: absolute;width: 1px;}#sk-8e74c9c0-f32e-42c4-8437-ee47dc8eb7e5 div.sk-estimator {font-family: monospace;background-color: #f0f8ff;border: 1px dotted black;border-radius: 0.25em;box-sizing: border-box;margin-bottom: 0.5em;}#sk-8e74c9c0-f32e-42c4-8437-ee47dc8eb7e5 div.sk-estimator:hover {background-color: #d4ebff;}#sk-8e74c9c0-f32e-42c4-8437-ee47dc8eb7e5 div.sk-parallel-item::after {content: \"\";width: 100%;border-bottom: 1px solid gray;flex-grow: 1;}#sk-8e74c9c0-f32e-42c4-8437-ee47dc8eb7e5 div.sk-label:hover label.sk-toggleable__label {background-color: #d4ebff;}#sk-8e74c9c0-f32e-42c4-8437-ee47dc8eb7e5 div.sk-serial::before {content: \"\";position: absolute;border-left: 1px solid gray;box-sizing: border-box;top: 2em;bottom: 0;left: 50%;}#sk-8e74c9c0-f32e-42c4-8437-ee47dc8eb7e5 div.sk-serial {display: flex;flex-direction: column;align-items: center;background-color: white;padding-right: 0.2em;padding-left: 0.2em;}#sk-8e74c9c0-f32e-42c4-8437-ee47dc8eb7e5 div.sk-item {z-index: 1;}#sk-8e74c9c0-f32e-42c4-8437-ee47dc8eb7e5 div.sk-parallel {display: flex;align-items: stretch;justify-content: center;background-color: white;}#sk-8e74c9c0-f32e-42c4-8437-ee47dc8eb7e5 div.sk-parallel::before {content: \"\";position: absolute;border-left: 1px solid gray;box-sizing: border-box;top: 2em;bottom: 0;left: 50%;}#sk-8e74c9c0-f32e-42c4-8437-ee47dc8eb7e5 div.sk-parallel-item {display: flex;flex-direction: column;position: relative;background-color: white;}#sk-8e74c9c0-f32e-42c4-8437-ee47dc8eb7e5 div.sk-parallel-item:first-child::after {align-self: flex-end;width: 50%;}#sk-8e74c9c0-f32e-42c4-8437-ee47dc8eb7e5 div.sk-parallel-item:last-child::after {align-self: flex-start;width: 50%;}#sk-8e74c9c0-f32e-42c4-8437-ee47dc8eb7e5 div.sk-parallel-item:only-child::after {width: 0;}#sk-8e74c9c0-f32e-42c4-8437-ee47dc8eb7e5 div.sk-dashed-wrapped {border: 1px dashed gray;margin: 0 0.4em 0.5em 0.4em;box-sizing: border-box;padding-bottom: 0.4em;background-color: white;position: relative;}#sk-8e74c9c0-f32e-42c4-8437-ee47dc8eb7e5 div.sk-label label {font-family: monospace;font-weight: bold;background-color: white;display: inline-block;line-height: 1.2em;}#sk-8e74c9c0-f32e-42c4-8437-ee47dc8eb7e5 div.sk-label-container {position: relative;z-index: 2;text-align: center;}#sk-8e74c9c0-f32e-42c4-8437-ee47dc8eb7e5 div.sk-container {display: inline-block;position: relative;}</style><div id=\"sk-8e74c9c0-f32e-42c4-8437-ee47dc8eb7e5\" class\"sk-top-container\"><div class=\"sk-container\"><div class=\"sk-item sk-dashed-wrapped\"><div class=\"sk-label-container\"><div class=\"sk-label sk-toggleable\"><input class=\"sk-toggleable__control sk-hidden--visually\" id=\"95f03418-1871-4164-9206-6df95d9b63aa\" type=\"checkbox\" ><label class=\"sk-toggleable__label\" for=\"95f03418-1871-4164-9206-6df95d9b63aa\">Pipeline</label><div class=\"sk-toggleable__content\"><pre>Pipeline(steps=[('column_transformation',\n",
       "                 ColumnTransformer(transformers=[('categorical',\n",
       "                                                  OneHotEncoder(handle_unknown='ignore'),\n",
       "                                                  ['type']),\n",
       "                                                 ('numerical', StandardScaler(),\n",
       "                                                  ['air_temperature_k',\n",
       "                                                   'process_temperature_k',\n",
       "                                                   'rotational_speed_rpm',\n",
       "                                                   'torque_nm', 'tool_wear_min',\n",
       "                                                   'diff_temperature_air_process',\n",
       "                                                   'power_W',\n",
       "                                                   'wear_x_torque_minNm'])])),\n",
       "                ('Classifier', LogisticRegression(C=5))])</pre></div></div></div><div class=\"sk-serial\"><div class=\"sk-item sk-dashed-wrapped\"><div class=\"sk-label-container\"><div class=\"sk-label sk-toggleable\"><input class=\"sk-toggleable__control sk-hidden--visually\" id=\"5d7d35fa-d318-4df8-b6a7-692345321894\" type=\"checkbox\" ><label class=\"sk-toggleable__label\" for=\"5d7d35fa-d318-4df8-b6a7-692345321894\">column_transformation: ColumnTransformer</label><div class=\"sk-toggleable__content\"><pre>ColumnTransformer(transformers=[('categorical',\n",
       "                                 OneHotEncoder(handle_unknown='ignore'),\n",
       "                                 ['type']),\n",
       "                                ('numerical', StandardScaler(),\n",
       "                                 ['air_temperature_k', 'process_temperature_k',\n",
       "                                  'rotational_speed_rpm', 'torque_nm',\n",
       "                                  'tool_wear_min',\n",
       "                                  'diff_temperature_air_process', 'power_W',\n",
       "                                  'wear_x_torque_minNm'])])</pre></div></div></div><div class=\"sk-parallel\"><div class=\"sk-parallel-item\"><div class=\"sk-item\"><div class=\"sk-label-container\"><div class=\"sk-label sk-toggleable\"><input class=\"sk-toggleable__control sk-hidden--visually\" id=\"a77ca768-0d03-4229-a7f7-a4ae1e465867\" type=\"checkbox\" ><label class=\"sk-toggleable__label\" for=\"a77ca768-0d03-4229-a7f7-a4ae1e465867\">categorical</label><div class=\"sk-toggleable__content\"><pre>['type']</pre></div></div></div><div class=\"sk-serial\"><div class=\"sk-item\"><div class=\"sk-estimator sk-toggleable\"><input class=\"sk-toggleable__control sk-hidden--visually\" id=\"eb975a66-8d6d-468f-b75d-58fe3f028536\" type=\"checkbox\" ><label class=\"sk-toggleable__label\" for=\"eb975a66-8d6d-468f-b75d-58fe3f028536\">OneHotEncoder</label><div class=\"sk-toggleable__content\"><pre>OneHotEncoder(handle_unknown='ignore')</pre></div></div></div></div></div></div><div class=\"sk-parallel-item\"><div class=\"sk-item\"><div class=\"sk-label-container\"><div class=\"sk-label sk-toggleable\"><input class=\"sk-toggleable__control sk-hidden--visually\" id=\"4805edb1-f367-40e6-ae6d-fef6b2ed39bd\" type=\"checkbox\" ><label class=\"sk-toggleable__label\" for=\"4805edb1-f367-40e6-ae6d-fef6b2ed39bd\">numerical</label><div class=\"sk-toggleable__content\"><pre>['air_temperature_k', 'process_temperature_k', 'rotational_speed_rpm', 'torque_nm', 'tool_wear_min', 'diff_temperature_air_process', 'power_W', 'wear_x_torque_minNm']</pre></div></div></div><div class=\"sk-serial\"><div class=\"sk-item\"><div class=\"sk-estimator sk-toggleable\"><input class=\"sk-toggleable__control sk-hidden--visually\" id=\"a6734246-2981-4473-b283-f9cf0a4a24b2\" type=\"checkbox\" ><label class=\"sk-toggleable__label\" for=\"a6734246-2981-4473-b283-f9cf0a4a24b2\">StandardScaler</label><div class=\"sk-toggleable__content\"><pre>StandardScaler()</pre></div></div></div></div></div></div></div></div><div class=\"sk-item\"><div class=\"sk-estimator sk-toggleable\"><input class=\"sk-toggleable__control sk-hidden--visually\" id=\"9b65f6ae-26b7-4ecf-b95c-ea1ed4ab3dbf\" type=\"checkbox\" ><label class=\"sk-toggleable__label\" for=\"9b65f6ae-26b7-4ecf-b95c-ea1ed4ab3dbf\">LogisticRegression</label><div class=\"sk-toggleable__content\"><pre>LogisticRegression(C=5)</pre></div></div></div></div></div></div></div>"
      ],
      "text/plain": [
       "Pipeline(steps=[('column_transformation',\n",
       "                 ColumnTransformer(transformers=[('categorical',\n",
       "                                                  OneHotEncoder(handle_unknown='ignore'),\n",
       "                                                  ['type']),\n",
       "                                                 ('numerical', StandardScaler(),\n",
       "                                                  ['air_temperature_k',\n",
       "                                                   'process_temperature_k',\n",
       "                                                   'rotational_speed_rpm',\n",
       "                                                   'torque_nm', 'tool_wear_min',\n",
       "                                                   'diff_temperature_air_process',\n",
       "                                                   'power_W',\n",
       "                                                   'wear_x_torque_minNm'])])),\n",
       "                ('Classifier', LogisticRegression(C=5))])"
      ]
     },
     "execution_count": 17,
     "metadata": {},
     "output_type": "execute_result"
    }
   ],
   "source": [
    "model.set_params(**search.best_params_)"
   ]
  },
  {
   "cell_type": "code",
   "execution_count": 18,
   "id": "6c6b77f6",
   "metadata": {
    "ExecuteTime": {
     "end_time": "2023-02-03T02:07:27.889491Z",
     "start_time": "2023-02-03T02:07:27.832136Z"
    },
    "hidden": true
   },
   "outputs": [],
   "source": [
    "model.fit(X_train,y_train)\n",
    "y_pred = model.predict(X_val)"
   ]
  },
  {
   "cell_type": "code",
   "execution_count": 19,
   "id": "f6b02258",
   "metadata": {
    "ExecuteTime": {
     "end_time": "2023-02-03T02:07:28.102381Z",
     "start_time": "2023-02-03T02:07:27.891408Z"
    },
    "hidden": true
   },
   "outputs": [
    {
     "data": {
      "text/plain": [
       "<sklearn.metrics._plot.confusion_matrix.ConfusionMatrixDisplay at 0x7f9e05557130>"
      ]
     },
     "execution_count": 19,
     "metadata": {},
     "output_type": "execute_result"
    },
    {
     "data": {
      "image/png": "[encoded data removed]",
      "text/plain": [
       "<Figure size 432x288 with 2 Axes>"
      ]
     },
     "metadata": {
      "needs_background": "light"
     },
     "output_type": "display_data"
    }
   ],
   "source": [
    "conf_mat = ConfusionMatrixDisplay(confusion_matrix(y_val,y_pred),display_labels=model.classes_)\n",
    "conf_mat.plot()"
   ]
  },
  {
   "cell_type": "code",
   "execution_count": 20,
   "id": "62690b42",
   "metadata": {
    "ExecuteTime": {
     "end_time": "2023-02-03T02:07:28.109586Z",
     "start_time": "2023-02-03T02:07:28.104555Z"
    },
    "hidden": true
   },
   "outputs": [
    {
     "name": "stdout",
     "output_type": "stream",
     "text": [
      "Miss rate: 0.806\n"
     ]
    }
   ],
   "source": [
    "print(f'Miss rate: {false_negative_rate(y_val,y_pred):.3f}')"
   ]
  },
  {
   "cell_type": "markdown",
   "id": "7a5a5144",
   "metadata": {},
   "source": [
    "## Árvore de Decisão"
   ]
  },
  {
   "cell_type": "code",
   "execution_count": 21,
   "id": "da63808b",
   "metadata": {
    "ExecuteTime": {
     "end_time": "2023-02-03T02:07:28.202396Z",
     "start_time": "2023-02-03T02:07:28.112110Z"
    }
   },
   "outputs": [
    {
     "data": {
      "text/html": [
       "<style>#sk-6187f0e5-a9ea-49ef-8587-729656dccf1b {color: black;background-color: white;}#sk-6187f0e5-a9ea-49ef-8587-729656dccf1b pre{padding: 0;}#sk-6187f0e5-a9ea-49ef-8587-729656dccf1b div.sk-toggleable {background-color: white;}#sk-6187f0e5-a9ea-49ef-8587-729656dccf1b label.sk-toggleable__label {cursor: pointer;display: block;width: 100%;margin-bottom: 0;padding: 0.3em;box-sizing: border-box;text-align: center;}#sk-6187f0e5-a9ea-49ef-8587-729656dccf1b div.sk-toggleable__content {max-height: 0;max-width: 0;overflow: hidden;text-align: left;background-color: #f0f8ff;}#sk-6187f0e5-a9ea-49ef-8587-729656dccf1b div.sk-toggleable__content pre {margin: 0.2em;color: black;border-radius: 0.25em;background-color: #f0f8ff;}#sk-6187f0e5-a9ea-49ef-8587-729656dccf1b input.sk-toggleable__control:checked~div.sk-toggleable__content {max-height: 200px;max-width: 100%;overflow: auto;}#sk-6187f0e5-a9ea-49ef-8587-729656dccf1b div.sk-estimator input.sk-toggleable__control:checked~label.sk-toggleable__label {background-color: #d4ebff;}#sk-6187f0e5-a9ea-49ef-8587-729656dccf1b div.sk-label input.sk-toggleable__control:checked~label.sk-toggleable__label {background-color: #d4ebff;}#sk-6187f0e5-a9ea-49ef-8587-729656dccf1b input.sk-hidden--visually {border: 0;clip: rect(1px 1px 1px 1px);clip: rect(1px, 1px, 1px, 1px);height: 1px;margin: -1px;overflow: hidden;padding: 0;position: absolute;width: 1px;}#sk-6187f0e5-a9ea-49ef-8587-729656dccf1b div.sk-estimator {font-family: monospace;background-color: #f0f8ff;border: 1px dotted black;border-radius: 0.25em;box-sizing: border-box;margin-bottom: 0.5em;}#sk-6187f0e5-a9ea-49ef-8587-729656dccf1b div.sk-estimator:hover {background-color: #d4ebff;}#sk-6187f0e5-a9ea-49ef-8587-729656dccf1b div.sk-parallel-item::after {content: \"\";width: 100%;border-bottom: 1px solid gray;flex-grow: 1;}#sk-6187f0e5-a9ea-49ef-8587-729656dccf1b div.sk-label:hover label.sk-toggleable__label {background-color: #d4ebff;}#sk-6187f0e5-a9ea-49ef-8587-729656dccf1b div.sk-serial::before {content: \"\";position: absolute;border-left: 1px solid gray;box-sizing: border-box;top: 2em;bottom: 0;left: 50%;}#sk-6187f0e5-a9ea-49ef-8587-729656dccf1b div.sk-serial {display: flex;flex-direction: column;align-items: center;background-color: white;padding-right: 0.2em;padding-left: 0.2em;}#sk-6187f0e5-a9ea-49ef-8587-729656dccf1b div.sk-item {z-index: 1;}#sk-6187f0e5-a9ea-49ef-8587-729656dccf1b div.sk-parallel {display: flex;align-items: stretch;justify-content: center;background-color: white;}#sk-6187f0e5-a9ea-49ef-8587-729656dccf1b div.sk-parallel::before {content: \"\";position: absolute;border-left: 1px solid gray;box-sizing: border-box;top: 2em;bottom: 0;left: 50%;}#sk-6187f0e5-a9ea-49ef-8587-729656dccf1b div.sk-parallel-item {display: flex;flex-direction: column;position: relative;background-color: white;}#sk-6187f0e5-a9ea-49ef-8587-729656dccf1b div.sk-parallel-item:first-child::after {align-self: flex-end;width: 50%;}#sk-6187f0e5-a9ea-49ef-8587-729656dccf1b div.sk-parallel-item:last-child::after {align-self: flex-start;width: 50%;}#sk-6187f0e5-a9ea-49ef-8587-729656dccf1b div.sk-parallel-item:only-child::after {width: 0;}#sk-6187f0e5-a9ea-49ef-8587-729656dccf1b div.sk-dashed-wrapped {border: 1px dashed gray;margin: 0 0.4em 0.5em 0.4em;box-sizing: border-box;padding-bottom: 0.4em;background-color: white;position: relative;}#sk-6187f0e5-a9ea-49ef-8587-729656dccf1b div.sk-label label {font-family: monospace;font-weight: bold;background-color: white;display: inline-block;line-height: 1.2em;}#sk-6187f0e5-a9ea-49ef-8587-729656dccf1b div.sk-label-container {position: relative;z-index: 2;text-align: center;}#sk-6187f0e5-a9ea-49ef-8587-729656dccf1b div.sk-container {display: inline-block;position: relative;}</style><div id=\"sk-6187f0e5-a9ea-49ef-8587-729656dccf1b\" class\"sk-top-container\"><div class=\"sk-container\"><div class=\"sk-item sk-dashed-wrapped\"><div class=\"sk-label-container\"><div class=\"sk-label sk-toggleable\"><input class=\"sk-toggleable__control sk-hidden--visually\" id=\"13f472ca-61af-4ce2-91b7-d973d10bc5be\" type=\"checkbox\" ><label class=\"sk-toggleable__label\" for=\"13f472ca-61af-4ce2-91b7-d973d10bc5be\">Pipeline</label><div class=\"sk-toggleable__content\"><pre>Pipeline(steps=[('column_transformation',\n",
       "                 ColumnTransformer(transformers=[('numerical', StandardScaler(),\n",
       "                                                  ['air_temperature_k',\n",
       "                                                   'process_temperature_k',\n",
       "                                                   'rotational_speed_rpm',\n",
       "                                                   'torque_nm', 'tool_wear_min',\n",
       "                                                   'diff_temperature_air_process',\n",
       "                                                   'power_W',\n",
       "                                                   'wear_x_torque_minNm']),\n",
       "                                                 ('categorical',\n",
       "                                                  OrdinalEncoder(handle_unknown='use_encoded_value',\n",
       "                                                                 unknown_value=-1),\n",
       "                                                  ['type'])])),\n",
       "                ('Classifier', DecisionTreeClassifier(random_state=42))])</pre></div></div></div><div class=\"sk-serial\"><div class=\"sk-item sk-dashed-wrapped\"><div class=\"sk-label-container\"><div class=\"sk-label sk-toggleable\"><input class=\"sk-toggleable__control sk-hidden--visually\" id=\"7c9e6a07-1965-40bb-bde8-dfd1a53f156b\" type=\"checkbox\" ><label class=\"sk-toggleable__label\" for=\"7c9e6a07-1965-40bb-bde8-dfd1a53f156b\">column_transformation: ColumnTransformer</label><div class=\"sk-toggleable__content\"><pre>ColumnTransformer(transformers=[('numerical', StandardScaler(),\n",
       "                                 ['air_temperature_k', 'process_temperature_k',\n",
       "                                  'rotational_speed_rpm', 'torque_nm',\n",
       "                                  'tool_wear_min',\n",
       "                                  'diff_temperature_air_process', 'power_W',\n",
       "                                  'wear_x_torque_minNm']),\n",
       "                                ('categorical',\n",
       "                                 OrdinalEncoder(handle_unknown='use_encoded_value',\n",
       "                                                unknown_value=-1),\n",
       "                                 ['type'])])</pre></div></div></div><div class=\"sk-parallel\"><div class=\"sk-parallel-item\"><div class=\"sk-item\"><div class=\"sk-label-container\"><div class=\"sk-label sk-toggleable\"><input class=\"sk-toggleable__control sk-hidden--visually\" id=\"bb5f4a6a-95e3-4867-b11a-499c61a4f45b\" type=\"checkbox\" ><label class=\"sk-toggleable__label\" for=\"bb5f4a6a-95e3-4867-b11a-499c61a4f45b\">numerical</label><div class=\"sk-toggleable__content\"><pre>['air_temperature_k', 'process_temperature_k', 'rotational_speed_rpm', 'torque_nm', 'tool_wear_min', 'diff_temperature_air_process', 'power_W', 'wear_x_torque_minNm']</pre></div></div></div><div class=\"sk-serial\"><div class=\"sk-item\"><div class=\"sk-estimator sk-toggleable\"><input class=\"sk-toggleable__control sk-hidden--visually\" id=\"494a479c-107b-4579-aa72-89ef11eb639e\" type=\"checkbox\" ><label class=\"sk-toggleable__label\" for=\"494a479c-107b-4579-aa72-89ef11eb639e\">StandardScaler</label><div class=\"sk-toggleable__content\"><pre>StandardScaler()</pre></div></div></div></div></div></div><div class=\"sk-parallel-item\"><div class=\"sk-item\"><div class=\"sk-label-container\"><div class=\"sk-label sk-toggleable\"><input class=\"sk-toggleable__control sk-hidden--visually\" id=\"e9d62641-b1ea-46f3-b143-ba1206673f77\" type=\"checkbox\" ><label class=\"sk-toggleable__label\" for=\"e9d62641-b1ea-46f3-b143-ba1206673f77\">categorical</label><div class=\"sk-toggleable__content\"><pre>['type']</pre></div></div></div><div class=\"sk-serial\"><div class=\"sk-item\"><div class=\"sk-estimator sk-toggleable\"><input class=\"sk-toggleable__control sk-hidden--visually\" id=\"4b4cf2e3-feee-4afb-b172-37e73c9c938b\" type=\"checkbox\" ><label class=\"sk-toggleable__label\" for=\"4b4cf2e3-feee-4afb-b172-37e73c9c938b\">OrdinalEncoder</label><div class=\"sk-toggleable__content\"><pre>OrdinalEncoder(handle_unknown='use_encoded_value', unknown_value=-1)</pre></div></div></div></div></div></div></div></div><div class=\"sk-item\"><div class=\"sk-estimator sk-toggleable\"><input class=\"sk-toggleable__control sk-hidden--visually\" id=\"6c8eb36a-5a89-4a4c-b618-0ec1e40f812e\" type=\"checkbox\" ><label class=\"sk-toggleable__label\" for=\"6c8eb36a-5a89-4a4c-b618-0ec1e40f812e\">DecisionTreeClassifier</label><div class=\"sk-toggleable__content\"><pre>DecisionTreeClassifier(random_state=42)</pre></div></div></div></div></div></div></div>"
      ],
      "text/plain": [
       "Pipeline(steps=[('column_transformation',\n",
       "                 ColumnTransformer(transformers=[('numerical', StandardScaler(),\n",
       "                                                  ['air_temperature_k',\n",
       "                                                   'process_temperature_k',\n",
       "                                                   'rotational_speed_rpm',\n",
       "                                                   'torque_nm', 'tool_wear_min',\n",
       "                                                   'diff_temperature_air_process',\n",
       "                                                   'power_W',\n",
       "                                                   'wear_x_torque_minNm']),\n",
       "                                                 ('categorical',\n",
       "                                                  OrdinalEncoder(handle_unknown='use_encoded_value',\n",
       "                                                                 unknown_value=-1),\n",
       "                                                  ['type'])])),\n",
       "                ('Classifier', DecisionTreeClassifier(random_state=42))])"
      ]
     },
     "metadata": {},
     "output_type": "display_data"
    }
   ],
   "source": [
    "#Para a árvore de decisão não precisaremos de OneHotEncoder\n",
    "from sklearn.preprocessing import OrdinalEncoder\n",
    "transformation = ColumnTransformer(\n",
    "    [('numerical',StandardScaler(),num_features),\n",
    "    ('categorical',OrdinalEncoder(handle_unknown='use_encoded_value',unknown_value=-1),cat_features)]\n",
    ")\n",
    "\n",
    "from sklearn.tree import DecisionTreeClassifier,plot_tree\n",
    "\n",
    "#Modelo usando os dados balanceados pelas classes\n",
    "#model_tree = Pipeline(steps=[\n",
    "#    ('column_transformation',transformation),\n",
    "#    ('Classifier',DecisionTreeClassifier(class_weight={0:class_weights[0],1:class_weights[1]}))\n",
    "#])\n",
    "\n",
    "model_tree = Pipeline(steps=[\n",
    "    ('column_transformation',transformation),\n",
    "    ('Classifier',DecisionTreeClassifier(random_state=42))\n",
    "])\n",
    "\n",
    "\n",
    "display(model_tree)"
   ]
  },
  {
   "cell_type": "code",
   "execution_count": 22,
   "id": "923dd4f7",
   "metadata": {
    "ExecuteTime": {
     "end_time": "2023-02-03T02:07:31.382213Z",
     "start_time": "2023-02-03T02:07:28.206592Z"
    }
   },
   "outputs": [
    {
     "name": "stderr",
     "output_type": "stream",
     "text": [
      "/home/marcio/anaconda3/envs/MarcioDS/lib/python3.10/site-packages/sklearn/model_selection/_validation.py:372: FitFailedWarning: \n",
      "40 fits failed out of a total of 200.\n",
      "The score on these train-test partitions for these parameters will be set to nan.\n",
      "If these failures are not expected, you can try to debug them by setting error_score='raise'.\n",
      "\n",
      "Below are more details about the failures:\n",
      "--------------------------------------------------------------------------------\n",
      "40 fits failed with the following error:\n",
      "Traceback (most recent call last):\n",
      "  File \"/home/marcio/anaconda3/envs/MarcioDS/lib/python3.10/site-packages/sklearn/model_selection/_validation.py\", line 681, in _fit_and_score\n",
      "    estimator.fit(X_train, y_train, **fit_params)\n",
      "  File \"/home/marcio/anaconda3/envs/MarcioDS/lib/python3.10/site-packages/sklearn/pipeline.py\", line 394, in fit\n",
      "    self._final_estimator.fit(Xt, y, **fit_params_last_step)\n",
      "  File \"/home/marcio/anaconda3/envs/MarcioDS/lib/python3.10/site-packages/sklearn/tree/_classes.py\", line 937, in fit\n",
      "    super().fit(\n",
      "  File \"/home/marcio/anaconda3/envs/MarcioDS/lib/python3.10/site-packages/sklearn/tree/_classes.py\", line 314, in fit\n",
      "    raise ValueError(\n",
      "ValueError: max_leaf_nodes 1 must be either None or larger than 1\n",
      "\n",
      "  warnings.warn(some_fits_failed_message, FitFailedWarning)\n",
      "/home/marcio/anaconda3/envs/MarcioDS/lib/python3.10/site-packages/sklearn/model_selection/_search.py:969: UserWarning: One or more of the test scores are non-finite: [        nan -0.70909091 -0.70909091 -0.70909091 -0.70909091         nan\n",
      " -0.70909091 -0.58787879 -0.58787879 -0.58787879         nan -0.70909091\n",
      " -0.49090909 -0.49090909 -0.4969697          nan -0.70909091 -0.49090909\n",
      " -0.49090909 -0.21818182         nan -0.70909091 -0.70909091 -0.70909091\n",
      " -0.70909091         nan -0.70909091 -0.61818182 -0.61818182 -0.61818182\n",
      "         nan -0.70909091 -0.56969697 -0.26666667 -0.23030303         nan\n",
      " -0.70909091 -0.56969697 -0.26666667 -0.24242424]\n",
      "  warnings.warn(\n"
     ]
    },
    {
     "data": {
      "text/html": [
       "<style>#sk-6be86368-8fca-4ed9-b462-bc1cba4ff1d3 {color: black;background-color: white;}#sk-6be86368-8fca-4ed9-b462-bc1cba4ff1d3 pre{padding: 0;}#sk-6be86368-8fca-4ed9-b462-bc1cba4ff1d3 div.sk-toggleable {background-color: white;}#sk-6be86368-8fca-4ed9-b462-bc1cba4ff1d3 label.sk-toggleable__label {cursor: pointer;display: block;width: 100%;margin-bottom: 0;padding: 0.3em;box-sizing: border-box;text-align: center;}#sk-6be86368-8fca-4ed9-b462-bc1cba4ff1d3 div.sk-toggleable__content {max-height: 0;max-width: 0;overflow: hidden;text-align: left;background-color: #f0f8ff;}#sk-6be86368-8fca-4ed9-b462-bc1cba4ff1d3 div.sk-toggleable__content pre {margin: 0.2em;color: black;border-radius: 0.25em;background-color: #f0f8ff;}#sk-6be86368-8fca-4ed9-b462-bc1cba4ff1d3 input.sk-toggleable__control:checked~div.sk-toggleable__content {max-height: 200px;max-width: 100%;overflow: auto;}#sk-6be86368-8fca-4ed9-b462-bc1cba4ff1d3 div.sk-estimator input.sk-toggleable__control:checked~label.sk-toggleable__label {background-color: #d4ebff;}#sk-6be86368-8fca-4ed9-b462-bc1cba4ff1d3 div.sk-label input.sk-toggleable__control:checked~label.sk-toggleable__label {background-color: #d4ebff;}#sk-6be86368-8fca-4ed9-b462-bc1cba4ff1d3 input.sk-hidden--visually {border: 0;clip: rect(1px 1px 1px 1px);clip: rect(1px, 1px, 1px, 1px);height: 1px;margin: -1px;overflow: hidden;padding: 0;position: absolute;width: 1px;}#sk-6be86368-8fca-4ed9-b462-bc1cba4ff1d3 div.sk-estimator {font-family: monospace;background-color: #f0f8ff;border: 1px dotted black;border-radius: 0.25em;box-sizing: border-box;margin-bottom: 0.5em;}#sk-6be86368-8fca-4ed9-b462-bc1cba4ff1d3 div.sk-estimator:hover {background-color: #d4ebff;}#sk-6be86368-8fca-4ed9-b462-bc1cba4ff1d3 div.sk-parallel-item::after {content: \"\";width: 100%;border-bottom: 1px solid gray;flex-grow: 1;}#sk-6be86368-8fca-4ed9-b462-bc1cba4ff1d3 div.sk-label:hover label.sk-toggleable__label {background-color: #d4ebff;}#sk-6be86368-8fca-4ed9-b462-bc1cba4ff1d3 div.sk-serial::before {content: \"\";position: absolute;border-left: 1px solid gray;box-sizing: border-box;top: 2em;bottom: 0;left: 50%;}#sk-6be86368-8fca-4ed9-b462-bc1cba4ff1d3 div.sk-serial {display: flex;flex-direction: column;align-items: center;background-color: white;padding-right: 0.2em;padding-left: 0.2em;}#sk-6be86368-8fca-4ed9-b462-bc1cba4ff1d3 div.sk-item {z-index: 1;}#sk-6be86368-8fca-4ed9-b462-bc1cba4ff1d3 div.sk-parallel {display: flex;align-items: stretch;justify-content: center;background-color: white;}#sk-6be86368-8fca-4ed9-b462-bc1cba4ff1d3 div.sk-parallel::before {content: \"\";position: absolute;border-left: 1px solid gray;box-sizing: border-box;top: 2em;bottom: 0;left: 50%;}#sk-6be86368-8fca-4ed9-b462-bc1cba4ff1d3 div.sk-parallel-item {display: flex;flex-direction: column;position: relative;background-color: white;}#sk-6be86368-8fca-4ed9-b462-bc1cba4ff1d3 div.sk-parallel-item:first-child::after {align-self: flex-end;width: 50%;}#sk-6be86368-8fca-4ed9-b462-bc1cba4ff1d3 div.sk-parallel-item:last-child::after {align-self: flex-start;width: 50%;}#sk-6be86368-8fca-4ed9-b462-bc1cba4ff1d3 div.sk-parallel-item:only-child::after {width: 0;}#sk-6be86368-8fca-4ed9-b462-bc1cba4ff1d3 div.sk-dashed-wrapped {border: 1px dashed gray;margin: 0 0.4em 0.5em 0.4em;box-sizing: border-box;padding-bottom: 0.4em;background-color: white;position: relative;}#sk-6be86368-8fca-4ed9-b462-bc1cba4ff1d3 div.sk-label label {font-family: monospace;font-weight: bold;background-color: white;display: inline-block;line-height: 1.2em;}#sk-6be86368-8fca-4ed9-b462-bc1cba4ff1d3 div.sk-label-container {position: relative;z-index: 2;text-align: center;}#sk-6be86368-8fca-4ed9-b462-bc1cba4ff1d3 div.sk-container {display: inline-block;position: relative;}</style><div id=\"sk-6be86368-8fca-4ed9-b462-bc1cba4ff1d3\" class\"sk-top-container\"><div class=\"sk-container\"><div class=\"sk-item sk-dashed-wrapped\"><div class=\"sk-label-container\"><div class=\"sk-label sk-toggleable\"><input class=\"sk-toggleable__control sk-hidden--visually\" id=\"05f86089-866f-4333-b5b1-54dcf8af6bc7\" type=\"checkbox\" ><label class=\"sk-toggleable__label\" for=\"05f86089-866f-4333-b5b1-54dcf8af6bc7\">GridSearchCV</label><div class=\"sk-toggleable__content\"><pre>GridSearchCV(cv=5,\n",
       "             estimator=Pipeline(steps=[('column_transformation',\n",
       "                                        ColumnTransformer(transformers=[('numerical',\n",
       "                                                                         StandardScaler(),\n",
       "                                                                         ['air_temperature_k',\n",
       "                                                                          'process_temperature_k',\n",
       "                                                                          'rotational_speed_rpm',\n",
       "                                                                          'torque_nm',\n",
       "                                                                          'tool_wear_min',\n",
       "                                                                          'diff_temperature_air_process',\n",
       "                                                                          'power_W',\n",
       "                                                                          'wear_x_torque_minNm']),\n",
       "                                                                        ('categorical',\n",
       "                                                                         OrdinalEncoder(handle_unknown='use_encoded_value',\n",
       "                                                                                        unknown_value=-1),\n",
       "                                                                         ['type'])])),\n",
       "                                       ('Classifier',\n",
       "                                        DecisionTreeClassifier(random_state=42))]),\n",
       "             param_grid={'Classifier__criterion': ['gini', 'entropy'],\n",
       "                         'Classifier__max_depth': [1, 2, 4, 5],\n",
       "                         'Classifier__max_leaf_nodes': [1, 2, 4, 5, 10]},\n",
       "             scoring=make_scorer(false_negative_rate, greater_is_better=False))</pre></div></div></div><div class=\"sk-parallel\"><div class=\"sk-parallel-item\"><div class=\"sk-item\"><div class=\"sk-serial\"><div class=\"sk-item\"><div class=\"sk-serial\"><div class=\"sk-item sk-dashed-wrapped\"><div class=\"sk-label-container\"><div class=\"sk-label sk-toggleable\"><input class=\"sk-toggleable__control sk-hidden--visually\" id=\"5cdbd968-581a-44b1-a0f3-59bcd131bf7a\" type=\"checkbox\" ><label class=\"sk-toggleable__label\" for=\"5cdbd968-581a-44b1-a0f3-59bcd131bf7a\">column_transformation: ColumnTransformer</label><div class=\"sk-toggleable__content\"><pre>ColumnTransformer(transformers=[('numerical', StandardScaler(),\n",
       "                                 ['air_temperature_k', 'process_temperature_k',\n",
       "                                  'rotational_speed_rpm', 'torque_nm',\n",
       "                                  'tool_wear_min',\n",
       "                                  'diff_temperature_air_process', 'power_W',\n",
       "                                  'wear_x_torque_minNm']),\n",
       "                                ('categorical',\n",
       "                                 OrdinalEncoder(handle_unknown='use_encoded_value',\n",
       "                                                unknown_value=-1),\n",
       "                                 ['type'])])</pre></div></div></div><div class=\"sk-parallel\"><div class=\"sk-parallel-item\"><div class=\"sk-item\"><div class=\"sk-label-container\"><div class=\"sk-label sk-toggleable\"><input class=\"sk-toggleable__control sk-hidden--visually\" id=\"93fb9889-e314-4e11-b295-54cad9d99dbf\" type=\"checkbox\" ><label class=\"sk-toggleable__label\" for=\"93fb9889-e314-4e11-b295-54cad9d99dbf\">numerical</label><div class=\"sk-toggleable__content\"><pre>['air_temperature_k', 'process_temperature_k', 'rotational_speed_rpm', 'torque_nm', 'tool_wear_min', 'diff_temperature_air_process', 'power_W', 'wear_x_torque_minNm']</pre></div></div></div><div class=\"sk-serial\"><div class=\"sk-item\"><div class=\"sk-estimator sk-toggleable\"><input class=\"sk-toggleable__control sk-hidden--visually\" id=\"a8cc8288-c4e4-4d57-9f31-d35e77ee39c4\" type=\"checkbox\" ><label class=\"sk-toggleable__label\" for=\"a8cc8288-c4e4-4d57-9f31-d35e77ee39c4\">StandardScaler</label><div class=\"sk-toggleable__content\"><pre>StandardScaler()</pre></div></div></div></div></div></div><div class=\"sk-parallel-item\"><div class=\"sk-item\"><div class=\"sk-label-container\"><div class=\"sk-label sk-toggleable\"><input class=\"sk-toggleable__control sk-hidden--visually\" id=\"00f25a83-fcce-40b9-8134-57b87f97b935\" type=\"checkbox\" ><label class=\"sk-toggleable__label\" for=\"00f25a83-fcce-40b9-8134-57b87f97b935\">categorical</label><div class=\"sk-toggleable__content\"><pre>['type']</pre></div></div></div><div class=\"sk-serial\"><div class=\"sk-item\"><div class=\"sk-estimator sk-toggleable\"><input class=\"sk-toggleable__control sk-hidden--visually\" id=\"8ee39a55-7456-41fb-b2aa-de717876c7ac\" type=\"checkbox\" ><label class=\"sk-toggleable__label\" for=\"8ee39a55-7456-41fb-b2aa-de717876c7ac\">OrdinalEncoder</label><div class=\"sk-toggleable__content\"><pre>OrdinalEncoder(handle_unknown='use_encoded_value', unknown_value=-1)</pre></div></div></div></div></div></div></div></div><div class=\"sk-item\"><div class=\"sk-estimator sk-toggleable\"><input class=\"sk-toggleable__control sk-hidden--visually\" id=\"aeeb7017-1c1c-4722-8987-cb3b71bbbb82\" type=\"checkbox\" ><label class=\"sk-toggleable__label\" for=\"aeeb7017-1c1c-4722-8987-cb3b71bbbb82\">DecisionTreeClassifier</label><div class=\"sk-toggleable__content\"><pre>DecisionTreeClassifier(random_state=42)</pre></div></div></div></div></div></div></div></div></div></div></div></div>"
      ],
      "text/plain": [
       "GridSearchCV(cv=5,\n",
       "             estimator=Pipeline(steps=[('column_transformation',\n",
       "                                        ColumnTransformer(transformers=[('numerical',\n",
       "                                                                         StandardScaler(),\n",
       "                                                                         ['air_temperature_k',\n",
       "                                                                          'process_temperature_k',\n",
       "                                                                          'rotational_speed_rpm',\n",
       "                                                                          'torque_nm',\n",
       "                                                                          'tool_wear_min',\n",
       "                                                                          'diff_temperature_air_process',\n",
       "                                                                          'power_W',\n",
       "                                                                          'wear_x_torque_minNm']),\n",
       "                                                                        ('categorical',\n",
       "                                                                         OrdinalEncoder(handle_unknown='use_encoded_value',\n",
       "                                                                                        unknown_value=-1),\n",
       "                                                                         ['type'])])),\n",
       "                                       ('Classifier',\n",
       "                                        DecisionTreeClassifier(random_state=42))]),\n",
       "             param_grid={'Classifier__criterion': ['gini', 'entropy'],\n",
       "                         'Classifier__max_depth': [1, 2, 4, 5],\n",
       "                         'Classifier__max_leaf_nodes': [1, 2, 4, 5, 10]},\n",
       "             scoring=make_scorer(false_negative_rate, greater_is_better=False))"
      ]
     },
     "execution_count": 22,
     "metadata": {},
     "output_type": "execute_result"
    }
   ],
   "source": [
    "param_grid = {\n",
    "    'Classifier__criterion':['gini', 'entropy'],\n",
    "    'Classifier__max_depth':[1,2,4,5],\n",
    "    'Classifier__max_leaf_nodes':[1,2,4,5,10]\n",
    "}\n",
    "\n",
    "searchtree = GridSearchCV(model_tree,\n",
    "                      param_grid,\n",
    "                      scoring= miss_rate,\n",
    "                     cv = 5)\n",
    "\n",
    "searchtree.fit(X_train,y_train)"
   ]
  },
  {
   "cell_type": "code",
   "execution_count": 23,
   "id": "b4f17000",
   "metadata": {
    "ExecuteTime": {
     "end_time": "2023-02-03T02:07:31.391195Z",
     "start_time": "2023-02-03T02:07:31.384778Z"
    }
   },
   "outputs": [
    {
     "data": {
      "text/plain": [
       "{'Classifier__criterion': 'gini',\n",
       " 'Classifier__max_depth': 5,\n",
       " 'Classifier__max_leaf_nodes': 10}"
      ]
     },
     "execution_count": 23,
     "metadata": {},
     "output_type": "execute_result"
    }
   ],
   "source": [
    "searchtree.best_params_"
   ]
  },
  {
   "cell_type": "code",
   "execution_count": 24,
   "id": "66439479",
   "metadata": {
    "ExecuteTime": {
     "end_time": "2023-02-03T02:07:31.408553Z",
     "start_time": "2023-02-03T02:07:31.393678Z"
    }
   },
   "outputs": [
    {
     "data": {
      "text/plain": [
       "<bound method Pipeline.get_params of Pipeline(steps=[('column_transformation',\n",
       "                 ColumnTransformer(transformers=[('numerical', StandardScaler(),\n",
       "                                                  ['air_temperature_k',\n",
       "                                                   'process_temperature_k',\n",
       "                                                   'rotational_speed_rpm',\n",
       "                                                   'torque_nm', 'tool_wear_min',\n",
       "                                                   'diff_temperature_air_process',\n",
       "                                                   'power_W',\n",
       "                                                   'wear_x_torque_minNm']),\n",
       "                                                 ('categorical',\n",
       "                                                  OrdinalEncoder(handle_unknown='use_encoded_value',\n",
       "                                                                 unknown_value=-1),\n",
       "                                                  ['type'])])),\n",
       "                ('Classifier',\n",
       "                 DecisionTreeClassifier(max_depth=5, max_leaf_nodes=10,\n",
       "                                        random_state=42))])>"
      ]
     },
     "execution_count": 24,
     "metadata": {},
     "output_type": "execute_result"
    }
   ],
   "source": [
    "model_tree.set_params(**searchtree.best_params_)\n",
    "model_tree.get_params"
   ]
  },
  {
   "cell_type": "code",
   "execution_count": 25,
   "id": "234d88d0",
   "metadata": {
    "ExecuteTime": {
     "end_time": "2023-02-03T02:07:31.586670Z",
     "start_time": "2023-02-03T02:07:31.411022Z"
    }
   },
   "outputs": [
    {
     "data": {
      "text/plain": [
       "<sklearn.metrics._plot.confusion_matrix.ConfusionMatrixDisplay at 0x7f9e04564640>"
      ]
     },
     "execution_count": 25,
     "metadata": {},
     "output_type": "execute_result"
    },
    {
     "data": {
      "image/png": "[encoded data removed]",
      "text/plain": [
       "<Figure size 432x288 with 2 Axes>"
      ]
     },
     "metadata": {
      "needs_background": "light"
     },
     "output_type": "display_data"
    }
   ],
   "source": [
    "model_tree.fit(X_train,y_train)\n",
    "y_pred = model_tree.predict(X_val)\n",
    "conf_mat = ConfusionMatrixDisplay(confusion_matrix(y_val,y_pred),display_labels=model_tree.classes_)\n",
    "conf_mat.plot()"
   ]
  },
  {
   "cell_type": "code",
   "execution_count": 26,
   "id": "7b2d57d0",
   "metadata": {
    "ExecuteTime": {
     "end_time": "2023-02-03T02:07:31.593394Z",
     "start_time": "2023-02-03T02:07:31.588753Z"
    }
   },
   "outputs": [
    {
     "name": "stdout",
     "output_type": "stream",
     "text": [
      "Miss rate: 0.179\n"
     ]
    }
   ],
   "source": [
    "print(f'Miss rate: {false_negative_rate(y_val,y_pred):.3f}')"
   ]
  },
  {
   "cell_type": "code",
   "execution_count": 27,
   "id": "20f4a0c3",
   "metadata": {
    "ExecuteTime": {
     "end_time": "2023-02-03T02:07:32.404069Z",
     "start_time": "2023-02-03T02:07:31.595648Z"
    }
   },
   "outputs": [
    {
     "data": {
      "text/plain": [
       "[Text(418.5, 747.4499999999999, 'power_W <= 2.367\\ngini = 0.068\\nsamples = 4666\\nvalue = [4501, 165]'),\n",
       " Text(257.53846153846155, 611.55, 'diff_temperature_air_process <= 2.543\\ngini = 0.049\\nsamples = 4613\\nvalue = [4496, 117]'),\n",
       " Text(193.15384615384616, 475.65, 'diff_temperature_air_process <= -2.621\\ngini = 0.04\\nsamples = 4590\\nvalue = [4496, 94]'),\n",
       " Text(128.76923076923077, 339.74999999999994, 'gini = 0.0\\nsamples = 13\\nvalue = [0, 13]'),\n",
       " Text(257.53846153846155, 339.74999999999994, 'tool_wear_min <= -1.352\\ngini = 0.035\\nsamples = 4577\\nvalue = [4496, 81]'),\n",
       " Text(128.76923076923077, 203.8499999999999, 'process_temperature_k <= -0.875\\ngini = 0.249\\nsamples = 364\\nvalue = [311, 53]'),\n",
       " Text(64.38461538461539, 67.94999999999993, 'gini = 0.215\\nsamples = 57\\nvalue = [7, 50]'),\n",
       " Text(193.15384615384616, 67.94999999999993, 'gini = 0.019\\nsamples = 307\\nvalue = [304, 3]'),\n",
       " Text(386.3076923076923, 203.8499999999999, 'torque_nm <= 1.491\\ngini = 0.013\\nsamples = 4213\\nvalue = [4185, 28]'),\n",
       " Text(321.9230769230769, 67.94999999999993, 'gini = 0.004\\nsamples = 3976\\nvalue = [3968, 8]'),\n",
       " Text(450.69230769230774, 67.94999999999993, 'gini = 0.155\\nsamples = 237\\nvalue = [217, 20]'),\n",
       " Text(321.9230769230769, 475.65, 'gini = 0.0\\nsamples = 23\\nvalue = [0, 23]'),\n",
       " Text(579.4615384615385, 611.55, 'wear_x_torque_minNm <= 1.5\\ngini = 0.171\\nsamples = 53\\nvalue = [5, 48]'),\n",
       " Text(450.69230769230774, 475.65, 'wear_x_torque_minNm <= 0.5\\ngini = 0.083\\nsamples = 46\\nvalue = [2, 44]'),\n",
       " Text(386.3076923076923, 339.74999999999994, 'gini = 0.48\\nsamples = 5\\nvalue = [2, 3]'),\n",
       " Text(515.0769230769231, 339.74999999999994, 'gini = 0.0\\nsamples = 41\\nvalue = [0, 41]'),\n",
       " Text(708.2307692307693, 475.65, 'rotational_speed_rpm <= 1.913\\ngini = 0.49\\nsamples = 7\\nvalue = [3, 4]'),\n",
       " Text(643.8461538461538, 339.74999999999994, 'gini = 0.0\\nsamples = 3\\nvalue = [3, 0]'),\n",
       " Text(772.6153846153846, 339.74999999999994, 'gini = 0.0\\nsamples = 4\\nvalue = [0, 4]')]"
      ]
     },
     "execution_count": 27,
     "metadata": {},
     "output_type": "execute_result"
    },
    {
     "data": {
      "image/png": "[encoded data removed]",
      "text/plain": [
       "<Figure size 1080x1080 with 1 Axes>"
      ]
     },
     "metadata": {
      "needs_background": "light"
     },
     "output_type": "display_data"
    }
   ],
   "source": [
    "model_tree.get_params\n",
    "import matplotlib.pyplot as plt\n",
    "plt.figure(figsize=(15,15))\n",
    "plot_tree(model_tree['Classifier'],feature_names=X.columns)"
   ]
  },
  {
   "cell_type": "markdown",
   "id": "05158934",
   "metadata": {
    "heading_collapsed": true
   },
   "source": [
    "## Ensemble: Random Forest Classifier"
   ]
  },
  {
   "cell_type": "code",
   "execution_count": 28,
   "id": "0bde0495",
   "metadata": {
    "ExecuteTime": {
     "end_time": "2023-02-03T02:07:32.487837Z",
     "start_time": "2023-02-03T02:07:32.408251Z"
    },
    "hidden": true
   },
   "outputs": [
    {
     "data": {
      "text/html": [
       "<style>#sk-b837de28-8d5a-4e73-a6bb-3e7850b10ce0 {color: black;background-color: white;}#sk-b837de28-8d5a-4e73-a6bb-3e7850b10ce0 pre{padding: 0;}#sk-b837de28-8d5a-4e73-a6bb-3e7850b10ce0 div.sk-toggleable {background-color: white;}#sk-b837de28-8d5a-4e73-a6bb-3e7850b10ce0 label.sk-toggleable__label {cursor: pointer;display: block;width: 100%;margin-bottom: 0;padding: 0.3em;box-sizing: border-box;text-align: center;}#sk-b837de28-8d5a-4e73-a6bb-3e7850b10ce0 div.sk-toggleable__content {max-height: 0;max-width: 0;overflow: hidden;text-align: left;background-color: #f0f8ff;}#sk-b837de28-8d5a-4e73-a6bb-3e7850b10ce0 div.sk-toggleable__content pre {margin: 0.2em;color: black;border-radius: 0.25em;background-color: #f0f8ff;}#sk-b837de28-8d5a-4e73-a6bb-3e7850b10ce0 input.sk-toggleable__control:checked~div.sk-toggleable__content {max-height: 200px;max-width: 100%;overflow: auto;}#sk-b837de28-8d5a-4e73-a6bb-3e7850b10ce0 div.sk-estimator input.sk-toggleable__control:checked~label.sk-toggleable__label {background-color: #d4ebff;}#sk-b837de28-8d5a-4e73-a6bb-3e7850b10ce0 div.sk-label input.sk-toggleable__control:checked~label.sk-toggleable__label {background-color: #d4ebff;}#sk-b837de28-8d5a-4e73-a6bb-3e7850b10ce0 input.sk-hidden--visually {border: 0;clip: rect(1px 1px 1px 1px);clip: rect(1px, 1px, 1px, 1px);height: 1px;margin: -1px;overflow: hidden;padding: 0;position: absolute;width: 1px;}#sk-b837de28-8d5a-4e73-a6bb-3e7850b10ce0 div.sk-estimator {font-family: monospace;background-color: #f0f8ff;border: 1px dotted black;border-radius: 0.25em;box-sizing: border-box;margin-bottom: 0.5em;}#sk-b837de28-8d5a-4e73-a6bb-3e7850b10ce0 div.sk-estimator:hover {background-color: #d4ebff;}#sk-b837de28-8d5a-4e73-a6bb-3e7850b10ce0 div.sk-parallel-item::after {content: \"\";width: 100%;border-bottom: 1px solid gray;flex-grow: 1;}#sk-b837de28-8d5a-4e73-a6bb-3e7850b10ce0 div.sk-label:hover label.sk-toggleable__label {background-color: #d4ebff;}#sk-b837de28-8d5a-4e73-a6bb-3e7850b10ce0 div.sk-serial::before {content: \"\";position: absolute;border-left: 1px solid gray;box-sizing: border-box;top: 2em;bottom: 0;left: 50%;}#sk-b837de28-8d5a-4e73-a6bb-3e7850b10ce0 div.sk-serial {display: flex;flex-direction: column;align-items: center;background-color: white;padding-right: 0.2em;padding-left: 0.2em;}#sk-b837de28-8d5a-4e73-a6bb-3e7850b10ce0 div.sk-item {z-index: 1;}#sk-b837de28-8d5a-4e73-a6bb-3e7850b10ce0 div.sk-parallel {display: flex;align-items: stretch;justify-content: center;background-color: white;}#sk-b837de28-8d5a-4e73-a6bb-3e7850b10ce0 div.sk-parallel::before {content: \"\";position: absolute;border-left: 1px solid gray;box-sizing: border-box;top: 2em;bottom: 0;left: 50%;}#sk-b837de28-8d5a-4e73-a6bb-3e7850b10ce0 div.sk-parallel-item {display: flex;flex-direction: column;position: relative;background-color: white;}#sk-b837de28-8d5a-4e73-a6bb-3e7850b10ce0 div.sk-parallel-item:first-child::after {align-self: flex-end;width: 50%;}#sk-b837de28-8d5a-4e73-a6bb-3e7850b10ce0 div.sk-parallel-item:last-child::after {align-self: flex-start;width: 50%;}#sk-b837de28-8d5a-4e73-a6bb-3e7850b10ce0 div.sk-parallel-item:only-child::after {width: 0;}#sk-b837de28-8d5a-4e73-a6bb-3e7850b10ce0 div.sk-dashed-wrapped {border: 1px dashed gray;margin: 0 0.4em 0.5em 0.4em;box-sizing: border-box;padding-bottom: 0.4em;background-color: white;position: relative;}#sk-b837de28-8d5a-4e73-a6bb-3e7850b10ce0 div.sk-label label {font-family: monospace;font-weight: bold;background-color: white;display: inline-block;line-height: 1.2em;}#sk-b837de28-8d5a-4e73-a6bb-3e7850b10ce0 div.sk-label-container {position: relative;z-index: 2;text-align: center;}#sk-b837de28-8d5a-4e73-a6bb-3e7850b10ce0 div.sk-container {display: inline-block;position: relative;}</style><div id=\"sk-b837de28-8d5a-4e73-a6bb-3e7850b10ce0\" class\"sk-top-container\"><div class=\"sk-container\"><div class=\"sk-item sk-dashed-wrapped\"><div class=\"sk-label-container\"><div class=\"sk-label sk-toggleable\"><input class=\"sk-toggleable__control sk-hidden--visually\" id=\"bab05d57-d2dc-423d-a1d8-6e64c4f52e4a\" type=\"checkbox\" ><label class=\"sk-toggleable__label\" for=\"bab05d57-d2dc-423d-a1d8-6e64c4f52e4a\">Pipeline</label><div class=\"sk-toggleable__content\"><pre>Pipeline(steps=[('preprocessor',\n",
       "                 ColumnTransformer(remainder='passthrough',\n",
       "                                   transformers=[('categorical',\n",
       "                                                  OrdinalEncoder(handle_unknown='use_encoded_value',\n",
       "                                                                 unknown_value=-1),\n",
       "                                                  ['type'])])),\n",
       "                ('Classifier', RandomForestClassifier(random_state=42))])</pre></div></div></div><div class=\"sk-serial\"><div class=\"sk-item sk-dashed-wrapped\"><div class=\"sk-label-container\"><div class=\"sk-label sk-toggleable\"><input class=\"sk-toggleable__control sk-hidden--visually\" id=\"f3539b76-de7b-45ad-88f3-057b7ce97a14\" type=\"checkbox\" ><label class=\"sk-toggleable__label\" for=\"f3539b76-de7b-45ad-88f3-057b7ce97a14\">preprocessor: ColumnTransformer</label><div class=\"sk-toggleable__content\"><pre>ColumnTransformer(remainder='passthrough',\n",
       "                  transformers=[('categorical',\n",
       "                                 OrdinalEncoder(handle_unknown='use_encoded_value',\n",
       "                                                unknown_value=-1),\n",
       "                                 ['type'])])</pre></div></div></div><div class=\"sk-parallel\"><div class=\"sk-parallel-item\"><div class=\"sk-item\"><div class=\"sk-label-container\"><div class=\"sk-label sk-toggleable\"><input class=\"sk-toggleable__control sk-hidden--visually\" id=\"3044056a-a281-465e-be5d-8ab09a2acb34\" type=\"checkbox\" ><label class=\"sk-toggleable__label\" for=\"3044056a-a281-465e-be5d-8ab09a2acb34\">categorical</label><div class=\"sk-toggleable__content\"><pre>['type']</pre></div></div></div><div class=\"sk-serial\"><div class=\"sk-item\"><div class=\"sk-estimator sk-toggleable\"><input class=\"sk-toggleable__control sk-hidden--visually\" id=\"81fdfa8d-9d4a-465a-b30b-f20bfe4e4725\" type=\"checkbox\" ><label class=\"sk-toggleable__label\" for=\"81fdfa8d-9d4a-465a-b30b-f20bfe4e4725\">OrdinalEncoder</label><div class=\"sk-toggleable__content\"><pre>OrdinalEncoder(handle_unknown='use_encoded_value', unknown_value=-1)</pre></div></div></div></div></div></div><div class=\"sk-parallel-item\"><div class=\"sk-item\"><div class=\"sk-label-container\"><div class=\"sk-label sk-toggleable\"><input class=\"sk-toggleable__control sk-hidden--visually\" id=\"b2abc540-7cde-493b-b62d-9d7805e6ecb3\" type=\"checkbox\" ><label class=\"sk-toggleable__label\" for=\"b2abc540-7cde-493b-b62d-9d7805e6ecb3\">remainder</label><div class=\"sk-toggleable__content\"><pre></pre></div></div></div><div class=\"sk-serial\"><div class=\"sk-item\"><div class=\"sk-estimator sk-toggleable\"><input class=\"sk-toggleable__control sk-hidden--visually\" id=\"8ccc6307-c0c0-42cc-b36e-8c4fb820bcc5\" type=\"checkbox\" ><label class=\"sk-toggleable__label\" for=\"8ccc6307-c0c0-42cc-b36e-8c4fb820bcc5\">passthrough</label><div class=\"sk-toggleable__content\"><pre>passthrough</pre></div></div></div></div></div></div></div></div><div class=\"sk-item\"><div class=\"sk-estimator sk-toggleable\"><input class=\"sk-toggleable__control sk-hidden--visually\" id=\"19843891-b5d1-4d14-8fdc-ec626603da59\" type=\"checkbox\" ><label class=\"sk-toggleable__label\" for=\"19843891-b5d1-4d14-8fdc-ec626603da59\">RandomForestClassifier</label><div class=\"sk-toggleable__content\"><pre>RandomForestClassifier(random_state=42)</pre></div></div></div></div></div></div></div>"
      ],
      "text/plain": [
       "Pipeline(steps=[('preprocessor',\n",
       "                 ColumnTransformer(remainder='passthrough',\n",
       "                                   transformers=[('categorical',\n",
       "                                                  OrdinalEncoder(handle_unknown='use_encoded_value',\n",
       "                                                                 unknown_value=-1),\n",
       "                                                  ['type'])])),\n",
       "                ('Classifier', RandomForestClassifier(random_state=42))])"
      ]
     },
     "metadata": {},
     "output_type": "display_data"
    }
   ],
   "source": [
    "from sklearn.ensemble import RandomForestClassifier\n",
    "\n",
    "#Para a árvore de decisão não precisaremos de OneHotEncoder\n",
    "from sklearn.preprocessing import OrdinalEncoder\n",
    "\n",
    "#preprocessor_rfc = ColumnTransformer(\n",
    "#    [('numerical',StandardScaler(),num_features),\n",
    "#    ('categorical',OrdinalEncoder(handle_unknown='use_encoded_value',unknown_value=-1),cat_features)]\n",
    "#)\n",
    "\n",
    "preprocessor_rfc = ColumnTransformer(\n",
    "    [('categorical',OrdinalEncoder(handle_unknown='use_encoded_value',unknown_value=-1),cat_features)],\n",
    "    remainder='passthrough')\n",
    "\n",
    "#Modelo usando os dados balanceados pelas classes\n",
    "#model_tree = Pipeline(steps=[\n",
    "#    ('column_transformation',transformation),\n",
    "#    ('Classifier',DecisionTreeClassifier(class_weight={0:class_weights[0],1:class_weights[1]}))\n",
    "#])\n",
    "\n",
    "model_rfc = Pipeline(steps=[\n",
    "    ('preprocessor',preprocessor_rfc),\n",
    "    ('Classifier',RandomForestClassifier(random_state=42))\n",
    "])\n",
    "\n",
    "\n",
    "display(model_rfc)"
   ]
  },
  {
   "cell_type": "code",
   "execution_count": 29,
   "id": "37f905bd",
   "metadata": {
    "ExecuteTime": {
     "end_time": "2023-02-03T02:12:49.733203Z",
     "start_time": "2023-02-03T02:07:32.490605Z"
    },
    "hidden": true
   },
   "outputs": [
    {
     "data": {
      "text/plain": [
       "{'Classifier__criterion': 'entropy',\n",
       " 'Classifier__max_depth': 10,\n",
       " 'Classifier__max_leaf_nodes': 15,\n",
       " 'Classifier__n_estimators': 100}"
      ]
     },
     "execution_count": 29,
     "metadata": {},
     "output_type": "execute_result"
    }
   ],
   "source": [
    "rfc_grid = {\n",
    "    'Classifier__criterion':['gini', 'entropy'],\n",
    "    'Classifier__n_estimators':[100,150,200,300],\n",
    "    'Classifier__max_depth':[1,2,5,10],\n",
    "    'Classifier__max_leaf_nodes':[2,5,10,15]\n",
    "}\n",
    "\n",
    "search_rfc = GridSearchCV(model_rfc,\n",
    "                      param_grid=rfc_grid,\n",
    "                      scoring= miss_rate,\n",
    "                     cv = 5)\n",
    "\n",
    "search_rfc.fit(X_train,y_train)\n",
    "search_rfc.best_params_"
   ]
  },
  {
   "cell_type": "code",
   "execution_count": 30,
   "id": "4cca66ec",
   "metadata": {
    "ExecuteTime": {
     "end_time": "2023-02-03T02:12:49.742339Z",
     "start_time": "2023-02-03T02:12:49.735295Z"
    },
    "hidden": true
   },
   "outputs": [
    {
     "name": "stdout",
     "output_type": "stream",
     "text": [
      "<bound method BaseEstimator.get_params of RandomForestClassifier(criterion='entropy', max_depth=10, max_leaf_nodes=15,\n",
      "                       random_state=42)>\n"
     ]
    }
   ],
   "source": [
    "model_rfc.set_params(**search_rfc.best_params_)\n",
    "print(model_rfc['Classifier'].get_params)"
   ]
  },
  {
   "cell_type": "code",
   "execution_count": 31,
   "id": "2733b76c",
   "metadata": {
    "ExecuteTime": {
     "end_time": "2023-02-03T02:12:50.542774Z",
     "start_time": "2023-02-03T02:12:49.744805Z"
    },
    "hidden": true
   },
   "outputs": [
    {
     "name": "stdout",
     "output_type": "stream",
     "text": [
      "Miss rate: 0.194\n"
     ]
    },
    {
     "data": {
      "image/png": "[encoded data removed]",
      "text/plain": [
       "<Figure size 432x288 with 2 Axes>"
      ]
     },
     "metadata": {
      "needs_background": "light"
     },
     "output_type": "display_data"
    }
   ],
   "source": [
    "model_rfc.fit(X_train,y_train)\n",
    "y_pred = model_rfc.predict(X_val)\n",
    "conf_mat = ConfusionMatrixDisplay(confusion_matrix(y_val,y_pred),display_labels=model_tree.classes_)\n",
    "conf_mat.plot()\n",
    "print(f'Miss rate: {false_negative_rate(y_val,y_pred):.3f}')"
   ]
  },
  {
   "cell_type": "markdown",
   "id": "7966cdb2",
   "metadata": {
    "hidden": true
   },
   "source": [
    "Com os resultados obtidos por meio dos três modelos acima, chegamos que o melhor modelo, dada a métrica escolhida, é o de Árvore de decisão. Por isso, agora vamos treiná-lo com todo o dataset de treino (X e y) para finalmente fazer o predict no arquivo final de teste, ainda não trabalhado. "
   ]
  },
  {
   "cell_type": "markdown",
   "id": "85df5e38",
   "metadata": {},
   "source": [
    "# Treino do modelo final"
   ]
  },
  {
   "cell_type": "code",
   "execution_count": 32,
   "id": "b68a6b22",
   "metadata": {
    "ExecuteTime": {
     "end_time": "2023-02-03T02:12:50.561419Z",
     "start_time": "2023-02-03T02:12:50.545318Z"
    }
   },
   "outputs": [
    {
     "data": {
      "text/plain": [
       "<bound method Pipeline.get_params of Pipeline(steps=[('column_transformation',\n",
       "                 ColumnTransformer(transformers=[('numerical', StandardScaler(),\n",
       "                                                  ['air_temperature_k',\n",
       "                                                   'process_temperature_k',\n",
       "                                                   'rotational_speed_rpm',\n",
       "                                                   'torque_nm', 'tool_wear_min',\n",
       "                                                   'diff_temperature_air_process',\n",
       "                                                   'power_W',\n",
       "                                                   'wear_x_torque_minNm']),\n",
       "                                                 ('categorical',\n",
       "                                                  OrdinalEncoder(handle_unknown='use_encoded_value',\n",
       "                                                                 unknown_value=-1),\n",
       "                                                  ['type'])])),\n",
       "                ('Classifier',\n",
       "                 DecisionTreeClassifier(max_depth=5, max_leaf_nodes=10,\n",
       "                                        random_state=42))])>"
      ]
     },
     "execution_count": 32,
     "metadata": {},
     "output_type": "execute_result"
    }
   ],
   "source": [
    "model_tree.get_params"
   ]
  },
  {
   "cell_type": "code",
   "execution_count": 33,
   "id": "7a7386fa",
   "metadata": {
    "ExecuteTime": {
     "end_time": "2023-02-03T02:12:50.603943Z",
     "start_time": "2023-02-03T02:12:50.563601Z"
    }
   },
   "outputs": [],
   "source": [
    "#Ajustando o modelo a todo conjunto de treino\n",
    "_ = model_tree.fit(X,y)"
   ]
  },
  {
   "cell_type": "code",
   "execution_count": 34,
   "id": "0d436aeb",
   "metadata": {
    "ExecuteTime": {
     "end_time": "2023-02-03T02:12:50.626592Z",
     "start_time": "2023-02-03T02:12:50.605566Z"
    }
   },
   "outputs": [
    {
     "data": {
      "text/html": [
       "<div>\n",
       "<style scoped>\n",
       "    .dataframe tbody tr th:only-of-type {\n",
       "        vertical-align: middle;\n",
       "    }\n",
       "\n",
       "    .dataframe tbody tr th {\n",
       "        vertical-align: top;\n",
       "    }\n",
       "\n",
       "    .dataframe thead th {\n",
       "        text-align: right;\n",
       "    }\n",
       "</style>\n",
       "<table border=\"1\" class=\"dataframe\">\n",
       "  <thead>\n",
       "    <tr style=\"text-align: right;\">\n",
       "      <th></th>\n",
       "      <th>type</th>\n",
       "      <th>air_temperature_k</th>\n",
       "      <th>process_temperature_k</th>\n",
       "      <th>rotational_speed_rpm</th>\n",
       "      <th>torque_nm</th>\n",
       "      <th>tool_wear_min</th>\n",
       "      <th>diff_temperature_air_process</th>\n",
       "      <th>power_W</th>\n",
       "      <th>wear_x_torque_minNm</th>\n",
       "    </tr>\n",
       "  </thead>\n",
       "  <tbody>\n",
       "    <tr>\n",
       "      <th>0</th>\n",
       "      <td>L</td>\n",
       "      <td>297.5</td>\n",
       "      <td>308.6</td>\n",
       "      <td>1793</td>\n",
       "      <td>26.7</td>\n",
       "      <td>70</td>\n",
       "      <td>11.1</td>\n",
       "      <td>5013.3</td>\n",
       "      <td>1869.0</td>\n",
       "    </tr>\n",
       "    <tr>\n",
       "      <th>1</th>\n",
       "      <td>L</td>\n",
       "      <td>300.7</td>\n",
       "      <td>310.5</td>\n",
       "      <td>1536</td>\n",
       "      <td>47.4</td>\n",
       "      <td>192</td>\n",
       "      <td>9.8</td>\n",
       "      <td>7624.3</td>\n",
       "      <td>9100.8</td>\n",
       "    </tr>\n",
       "    <tr>\n",
       "      <th>2</th>\n",
       "      <td>L</td>\n",
       "      <td>297.2</td>\n",
       "      <td>308.4</td>\n",
       "      <td>1460</td>\n",
       "      <td>42.1</td>\n",
       "      <td>41</td>\n",
       "      <td>11.2</td>\n",
       "      <td>6436.7</td>\n",
       "      <td>1726.1</td>\n",
       "    </tr>\n",
       "    <tr>\n",
       "      <th>3</th>\n",
       "      <td>L</td>\n",
       "      <td>299.4</td>\n",
       "      <td>309.1</td>\n",
       "      <td>1670</td>\n",
       "      <td>35.9</td>\n",
       "      <td>68</td>\n",
       "      <td>9.7</td>\n",
       "      <td>6278.3</td>\n",
       "      <td>2441.2</td>\n",
       "    </tr>\n",
       "    <tr>\n",
       "      <th>4</th>\n",
       "      <td>L</td>\n",
       "      <td>304.1</td>\n",
       "      <td>313.1</td>\n",
       "      <td>1550</td>\n",
       "      <td>30.9</td>\n",
       "      <td>9</td>\n",
       "      <td>9.0</td>\n",
       "      <td>5015.6</td>\n",
       "      <td>278.1</td>\n",
       "    </tr>\n",
       "  </tbody>\n",
       "</table>\n",
       "</div>"
      ],
      "text/plain": [
       "  type  air_temperature_k  process_temperature_k  rotational_speed_rpm  \\\n",
       "0    L              297.5                  308.6                  1793   \n",
       "1    L              300.7                  310.5                  1536   \n",
       "2    L              297.2                  308.4                  1460   \n",
       "3    L              299.4                  309.1                  1670   \n",
       "4    L              304.1                  313.1                  1550   \n",
       "\n",
       "   torque_nm  tool_wear_min  diff_temperature_air_process  power_W  \\\n",
       "0       26.7             70                          11.1   5013.3   \n",
       "1       47.4            192                           9.8   7624.3   \n",
       "2       42.1             41                          11.2   6436.7   \n",
       "3       35.9             68                           9.7   6278.3   \n",
       "4       30.9              9                           9.0   5015.6   \n",
       "\n",
       "   wear_x_torque_minNm  \n",
       "0               1869.0  \n",
       "1               9100.8  \n",
       "2               1726.1  \n",
       "3               2441.2  \n",
       "4                278.1  "
      ]
     },
     "execution_count": 34,
     "metadata": {},
     "output_type": "execute_result"
    }
   ],
   "source": [
    "teste = pd.read_csv('desafio_manutencao_preditiva_teste_final.csv')\n",
    "teste.head()"
   ]
  },
  {
   "cell_type": "code",
   "execution_count": 35,
   "id": "e78d1a44",
   "metadata": {
    "ExecuteTime": {
     "end_time": "2023-02-03T02:12:50.647034Z",
     "start_time": "2023-02-03T02:12:50.628739Z"
    }
   },
   "outputs": [
    {
     "data": {
      "text/plain": [
       "array([0, 0, 0, 0, 0, 0, 0, 0, 0, 0])"
      ]
     },
     "execution_count": 35,
     "metadata": {},
     "output_type": "execute_result"
    }
   ],
   "source": [
    "y_pred_final = model.predict(teste)\n",
    "y_pred_final[:10]"
   ]
  },
  {
   "cell_type": "code",
   "execution_count": 36,
   "id": "16305aeb",
   "metadata": {
    "ExecuteTime": {
     "end_time": "2023-02-03T02:12:50.658378Z",
     "start_time": "2023-02-03T02:12:50.649233Z"
    }
   },
   "outputs": [
    {
     "data": {
      "text/html": [
       "<div>\n",
       "<style scoped>\n",
       "    .dataframe tbody tr th:only-of-type {\n",
       "        vertical-align: middle;\n",
       "    }\n",
       "\n",
       "    .dataframe tbody tr th {\n",
       "        vertical-align: top;\n",
       "    }\n",
       "\n",
       "    .dataframe thead th {\n",
       "        text-align: right;\n",
       "    }\n",
       "</style>\n",
       "<table border=\"1\" class=\"dataframe\">\n",
       "  <thead>\n",
       "    <tr style=\"text-align: right;\">\n",
       "      <th></th>\n",
       "      <th>predictedValues</th>\n",
       "    </tr>\n",
       "  </thead>\n",
       "  <tbody>\n",
       "    <tr>\n",
       "      <th>0</th>\n",
       "      <td>No Failure</td>\n",
       "    </tr>\n",
       "    <tr>\n",
       "      <th>1</th>\n",
       "      <td>No Failure</td>\n",
       "    </tr>\n",
       "    <tr>\n",
       "      <th>2</th>\n",
       "      <td>No Failure</td>\n",
       "    </tr>\n",
       "    <tr>\n",
       "      <th>3</th>\n",
       "      <td>No Failure</td>\n",
       "    </tr>\n",
       "    <tr>\n",
       "      <th>4</th>\n",
       "      <td>No Failure</td>\n",
       "    </tr>\n",
       "    <tr>\n",
       "      <th>5</th>\n",
       "      <td>No Failure</td>\n",
       "    </tr>\n",
       "    <tr>\n",
       "      <th>6</th>\n",
       "      <td>No Failure</td>\n",
       "    </tr>\n",
       "    <tr>\n",
       "      <th>7</th>\n",
       "      <td>No Failure</td>\n",
       "    </tr>\n",
       "    <tr>\n",
       "      <th>8</th>\n",
       "      <td>No Failure</td>\n",
       "    </tr>\n",
       "    <tr>\n",
       "      <th>9</th>\n",
       "      <td>No Failure</td>\n",
       "    </tr>\n",
       "  </tbody>\n",
       "</table>\n",
       "</div>"
      ],
      "text/plain": [
       "  predictedValues\n",
       "0      No Failure\n",
       "1      No Failure\n",
       "2      No Failure\n",
       "3      No Failure\n",
       "4      No Failure\n",
       "5      No Failure\n",
       "6      No Failure\n",
       "7      No Failure\n",
       "8      No Failure\n",
       "9      No Failure"
      ]
     },
     "execution_count": 36,
     "metadata": {},
     "output_type": "execute_result"
    }
   ],
   "source": [
    "y_pred_final = pd.DataFrame(np.where(y_pred_final==0,'No Failure','Failure'),columns=['predictedValues'])\n",
    "y_pred_final.head(10)"
   ]
  },
  {
   "cell_type": "code",
   "execution_count": 37,
   "id": "c1369bf8",
   "metadata": {
    "ExecuteTime": {
     "end_time": "2023-02-03T02:12:50.669998Z",
     "start_time": "2023-02-03T02:12:50.660962Z"
    }
   },
   "outputs": [
    {
     "data": {
      "text/plain": [
       "predictedValues\n",
       "No Failure         3299\n",
       "Failure              34\n",
       "dtype: int64"
      ]
     },
     "execution_count": 37,
     "metadata": {},
     "output_type": "execute_result"
    }
   ],
   "source": [
    "y_pred_final.value_counts()"
   ]
  },
  {
   "cell_type": "code",
   "execution_count": 39,
   "id": "6f972c64",
   "metadata": {
    "ExecuteTime": {
     "end_time": "2023-02-03T02:16:52.006127Z",
     "start_time": "2023-02-03T02:16:51.995430Z"
    }
   },
   "outputs": [],
   "source": [
    "y_pred_final.to_csv('predicted.csv',index=True,header=['predictedValues'],index_label='rowNumber')"
   ]
  },
  {
   "cell_type": "code",
   "execution_count": null,
   "id": "07a0f8df",
   "metadata": {},
   "outputs": [],
   "source": []
  }
 ],
 "metadata": {
  "kernelspec": {
   "display_name": "Python 3 (ipykernel)",
   "language": "python",
   "name": "python3"
  },
  "language_info": {
   "codemirror_mode": {
    "name": "ipython",
    "version": 3
   },
   "file_extension": ".py",
   "mimetype": "text/x-python",
   "name": "python",
   "nbconvert_exporter": "python",
   "pygments_lexer": "ipython3",
   "version": "3.10.4"
  }
 },
 "nbformat": 4,
 "nbformat_minor": 5
}
