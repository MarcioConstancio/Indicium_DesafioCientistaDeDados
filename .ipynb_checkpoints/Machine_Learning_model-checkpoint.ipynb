{
 "cells": [
  {
   "cell_type": "markdown",
   "id": "e298e5c5",
   "metadata": {},
   "source": [
    "# Modelo de Machine Learning"
   ]
  },
  {
   "cell_type": "code",
   "execution_count": 1,
   "id": "6aa66f2d",
   "metadata": {
    "ExecuteTime": {
     "end_time": "2023-02-02T20:02:03.811814Z",
     "start_time": "2023-02-02T20:02:03.533999Z"
    }
   },
   "outputs": [],
   "source": [
    "import pandas as pd\n",
    "import numpy as np"
   ]
  },
  {
   "cell_type": "code",
   "execution_count": 2,
   "id": "acf8cf69",
   "metadata": {
    "ExecuteTime": {
     "end_time": "2023-02-02T20:02:03.843233Z",
     "start_time": "2023-02-02T20:02:03.813831Z"
    }
   },
   "outputs": [
    {
     "data": {
      "text/html": [
       "<div>\n",
       "<style scoped>\n",
       "    .dataframe tbody tr th:only-of-type {\n",
       "        vertical-align: middle;\n",
       "    }\n",
       "\n",
       "    .dataframe tbody tr th {\n",
       "        vertical-align: top;\n",
       "    }\n",
       "\n",
       "    .dataframe thead th {\n",
       "        text-align: right;\n",
       "    }\n",
       "</style>\n",
       "<table border=\"1\" class=\"dataframe\">\n",
       "  <thead>\n",
       "    <tr style=\"text-align: right;\">\n",
       "      <th></th>\n",
       "      <th>type</th>\n",
       "      <th>air_temperature_k</th>\n",
       "      <th>process_temperature_k</th>\n",
       "      <th>rotational_speed_rpm</th>\n",
       "      <th>torque_nm</th>\n",
       "      <th>tool_wear_min</th>\n",
       "      <th>failure_type</th>\n",
       "      <th>diff_temperature_air_process</th>\n",
       "      <th>power_W</th>\n",
       "      <th>wear_x_torque_minNm</th>\n",
       "    </tr>\n",
       "  </thead>\n",
       "  <tbody>\n",
       "    <tr>\n",
       "      <th>0</th>\n",
       "      <td>M</td>\n",
       "      <td>298.1</td>\n",
       "      <td>308.6</td>\n",
       "      <td>1551</td>\n",
       "      <td>42.8</td>\n",
       "      <td>0</td>\n",
       "      <td>No Failure</td>\n",
       "      <td>10.5</td>\n",
       "      <td>6951.6</td>\n",
       "      <td>0.0</td>\n",
       "    </tr>\n",
       "    <tr>\n",
       "      <th>1</th>\n",
       "      <td>L</td>\n",
       "      <td>298.2</td>\n",
       "      <td>308.7</td>\n",
       "      <td>1408</td>\n",
       "      <td>46.3</td>\n",
       "      <td>3</td>\n",
       "      <td>No Failure</td>\n",
       "      <td>10.5</td>\n",
       "      <td>6826.7</td>\n",
       "      <td>138.9</td>\n",
       "    </tr>\n",
       "    <tr>\n",
       "      <th>2</th>\n",
       "      <td>L</td>\n",
       "      <td>298.2</td>\n",
       "      <td>308.7</td>\n",
       "      <td>1408</td>\n",
       "      <td>40.0</td>\n",
       "      <td>9</td>\n",
       "      <td>No Failure</td>\n",
       "      <td>10.5</td>\n",
       "      <td>5897.8</td>\n",
       "      <td>360.0</td>\n",
       "    </tr>\n",
       "    <tr>\n",
       "      <th>3</th>\n",
       "      <td>M</td>\n",
       "      <td>298.1</td>\n",
       "      <td>308.6</td>\n",
       "      <td>1425</td>\n",
       "      <td>41.9</td>\n",
       "      <td>11</td>\n",
       "      <td>No Failure</td>\n",
       "      <td>10.5</td>\n",
       "      <td>6252.6</td>\n",
       "      <td>460.9</td>\n",
       "    </tr>\n",
       "    <tr>\n",
       "      <th>4</th>\n",
       "      <td>L</td>\n",
       "      <td>298.1</td>\n",
       "      <td>308.6</td>\n",
       "      <td>1558</td>\n",
       "      <td>42.4</td>\n",
       "      <td>14</td>\n",
       "      <td>No Failure</td>\n",
       "      <td>10.5</td>\n",
       "      <td>6917.7</td>\n",
       "      <td>593.6</td>\n",
       "    </tr>\n",
       "  </tbody>\n",
       "</table>\n",
       "</div>"
      ],
      "text/plain": [
       "  type  air_temperature_k  process_temperature_k  rotational_speed_rpm  \\\n",
       "0    M              298.1                  308.6                  1551   \n",
       "1    L              298.2                  308.7                  1408   \n",
       "2    L              298.2                  308.7                  1408   \n",
       "3    M              298.1                  308.6                  1425   \n",
       "4    L              298.1                  308.6                  1558   \n",
       "\n",
       "   torque_nm  tool_wear_min failure_type  diff_temperature_air_process  \\\n",
       "0       42.8              0   No Failure                          10.5   \n",
       "1       46.3              3   No Failure                          10.5   \n",
       "2       40.0              9   No Failure                          10.5   \n",
       "3       41.9             11   No Failure                          10.5   \n",
       "4       42.4             14   No Failure                          10.5   \n",
       "\n",
       "   power_W  wear_x_torque_minNm  \n",
       "0   6951.6                  0.0  \n",
       "1   6826.7                138.9  \n",
       "2   5897.8                360.0  \n",
       "3   6252.6                460.9  \n",
       "4   6917.7                593.6  "
      ]
     },
     "execution_count": 2,
     "metadata": {},
     "output_type": "execute_result"
    }
   ],
   "source": [
    "df = pd.read_csv('desafio_manutencao_preditiva_treino_final.csv')\n",
    "df.head()"
   ]
  },
  {
   "cell_type": "code",
   "execution_count": 3,
   "id": "90e3621a",
   "metadata": {
    "ExecuteTime": {
     "end_time": "2023-02-02T20:02:03.859284Z",
     "start_time": "2023-02-02T20:02:03.845000Z"
    }
   },
   "outputs": [
    {
     "data": {
      "text/html": [
       "<div>\n",
       "<style scoped>\n",
       "    .dataframe tbody tr th:only-of-type {\n",
       "        vertical-align: middle;\n",
       "    }\n",
       "\n",
       "    .dataframe tbody tr th {\n",
       "        vertical-align: top;\n",
       "    }\n",
       "\n",
       "    .dataframe thead th {\n",
       "        text-align: right;\n",
       "    }\n",
       "</style>\n",
       "<table border=\"1\" class=\"dataframe\">\n",
       "  <thead>\n",
       "    <tr style=\"text-align: right;\">\n",
       "      <th></th>\n",
       "      <th>type</th>\n",
       "      <th>air_temperature_k</th>\n",
       "      <th>process_temperature_k</th>\n",
       "      <th>rotational_speed_rpm</th>\n",
       "      <th>torque_nm</th>\n",
       "      <th>tool_wear_min</th>\n",
       "      <th>diff_temperature_air_process</th>\n",
       "      <th>power_W</th>\n",
       "      <th>wear_x_torque_minNm</th>\n",
       "    </tr>\n",
       "  </thead>\n",
       "  <tbody>\n",
       "    <tr>\n",
       "      <th>0</th>\n",
       "      <td>M</td>\n",
       "      <td>298.1</td>\n",
       "      <td>308.6</td>\n",
       "      <td>1551</td>\n",
       "      <td>42.8</td>\n",
       "      <td>0</td>\n",
       "      <td>10.5</td>\n",
       "      <td>6951.6</td>\n",
       "      <td>0.0</td>\n",
       "    </tr>\n",
       "    <tr>\n",
       "      <th>1</th>\n",
       "      <td>L</td>\n",
       "      <td>298.2</td>\n",
       "      <td>308.7</td>\n",
       "      <td>1408</td>\n",
       "      <td>46.3</td>\n",
       "      <td>3</td>\n",
       "      <td>10.5</td>\n",
       "      <td>6826.7</td>\n",
       "      <td>138.9</td>\n",
       "    </tr>\n",
       "    <tr>\n",
       "      <th>2</th>\n",
       "      <td>L</td>\n",
       "      <td>298.2</td>\n",
       "      <td>308.7</td>\n",
       "      <td>1408</td>\n",
       "      <td>40.0</td>\n",
       "      <td>9</td>\n",
       "      <td>10.5</td>\n",
       "      <td>5897.8</td>\n",
       "      <td>360.0</td>\n",
       "    </tr>\n",
       "    <tr>\n",
       "      <th>3</th>\n",
       "      <td>M</td>\n",
       "      <td>298.1</td>\n",
       "      <td>308.6</td>\n",
       "      <td>1425</td>\n",
       "      <td>41.9</td>\n",
       "      <td>11</td>\n",
       "      <td>10.5</td>\n",
       "      <td>6252.6</td>\n",
       "      <td>460.9</td>\n",
       "    </tr>\n",
       "    <tr>\n",
       "      <th>4</th>\n",
       "      <td>L</td>\n",
       "      <td>298.1</td>\n",
       "      <td>308.6</td>\n",
       "      <td>1558</td>\n",
       "      <td>42.4</td>\n",
       "      <td>14</td>\n",
       "      <td>10.5</td>\n",
       "      <td>6917.7</td>\n",
       "      <td>593.6</td>\n",
       "    </tr>\n",
       "  </tbody>\n",
       "</table>\n",
       "</div>"
      ],
      "text/plain": [
       "  type  air_temperature_k  process_temperature_k  rotational_speed_rpm  \\\n",
       "0    M              298.1                  308.6                  1551   \n",
       "1    L              298.2                  308.7                  1408   \n",
       "2    L              298.2                  308.7                  1408   \n",
       "3    M              298.1                  308.6                  1425   \n",
       "4    L              298.1                  308.6                  1558   \n",
       "\n",
       "   torque_nm  tool_wear_min  diff_temperature_air_process  power_W  \\\n",
       "0       42.8              0                          10.5   6951.6   \n",
       "1       46.3              3                          10.5   6826.7   \n",
       "2       40.0              9                          10.5   5897.8   \n",
       "3       41.9             11                          10.5   6252.6   \n",
       "4       42.4             14                          10.5   6917.7   \n",
       "\n",
       "   wear_x_torque_minNm  \n",
       "0                  0.0  \n",
       "1                138.9  \n",
       "2                360.0  \n",
       "3                460.9  \n",
       "4                593.6  "
      ]
     },
     "metadata": {},
     "output_type": "display_data"
    },
    {
     "name": "stdout",
     "output_type": "stream",
     "text": [
      "0    No Failure\n",
      "1    No Failure\n",
      "2    No Failure\n",
      "3    No Failure\n",
      "4    No Failure\n",
      "Name: failure_type, dtype: object\n"
     ]
    }
   ],
   "source": [
    "X_columns = df.drop(columns=['failure_type']).columns\n",
    "X = df[X_columns]\n",
    "y = df['failure_type']\n",
    "display(X.head())\n",
    "print(y[:5])"
   ]
  },
  {
   "cell_type": "markdown",
   "id": "a41406ec",
   "metadata": {},
   "source": [
    "# Classificação binária\n",
    "\n",
    "O primeiro caso que abordaremos é o caso de uma classificação binária, ou seja, Failure (1) ou No Failure (0). Para isso, vamos converter nossa variável y em binário sendo 0 para No Failure e 1 para qualquer outro tipo de falha. "
   ]
  },
  {
   "cell_type": "code",
   "execution_count": 4,
   "id": "830f3b9c",
   "metadata": {
    "ExecuteTime": {
     "end_time": "2023-02-02T20:02:03.870453Z",
     "start_time": "2023-02-02T20:02:03.864409Z"
    }
   },
   "outputs": [
    {
     "name": "stdout",
     "output_type": "stream",
     "text": [
      "232\n",
      "[0 0 0 0 0 0 0 0 0 0]\n",
      "0.9652017399130044\n"
     ]
    }
   ],
   "source": [
    "y = np.where(y == 'No Failure',0,1)\n",
    "print(y.sum())\n",
    "print(y[:10])\n",
    "print(1 - np.sum(y)/len(y))"
   ]
  },
  {
   "cell_type": "markdown",
   "id": "9d4f9710",
   "metadata": {
    "ExecuteTime": {
     "end_time": "2023-02-02T17:41:55.673958Z",
     "start_time": "2023-02-02T17:41:55.665646Z"
    }
   },
   "source": [
    "No total, são 232 registros indicando algum tipo de falha. Por isso, vamos comparar estes dados com o original do dataframe. \n",
    "\n",
    "Note que a ultima mensagem da linha faz referência à quantidade de 'Failure' em relação ao número de 'No Failure'. Em resumo, se um modelo cego chutasse que todas as saídas fossem 'No Failure', ele acertaria 96,5% das vezes. Isso é um indicativo de que a acurácia não é o modelo adequado para avaliar estes dados. "
   ]
  },
  {
   "cell_type": "code",
   "execution_count": 5,
   "id": "2e00bd49",
   "metadata": {
    "ExecuteTime": {
     "end_time": "2023-02-02T20:02:03.881732Z",
     "start_time": "2023-02-02T20:02:03.872841Z"
    }
   },
   "outputs": [
    {
     "name": "stdout",
     "output_type": "stream",
     "text": [
      "232\n"
     ]
    },
    {
     "data": {
      "text/plain": [
       "0    No Failure\n",
       "1    No Failure\n",
       "2    No Failure\n",
       "3    No Failure\n",
       "4    No Failure\n",
       "5    No Failure\n",
       "6    No Failure\n",
       "7    No Failure\n",
       "8    No Failure\n",
       "9    No Failure\n",
       "Name: failure_type, dtype: object"
      ]
     },
     "execution_count": 5,
     "metadata": {},
     "output_type": "execute_result"
    }
   ],
   "source": [
    "print(df['failure_type'][df['failure_type'] != 'No Failure'].value_counts().sum())\n",
    "df['failure_type'].head(10)"
   ]
  },
  {
   "cell_type": "markdown",
   "id": "488f5992",
   "metadata": {},
   "source": [
    "Como os os registros batem, podemos continuar nossa análise. Primeiramente vamos dividor o conjunto em dados de treino e dados de validação. "
   ]
  },
  {
   "cell_type": "code",
   "execution_count": 6,
   "id": "095e5dee",
   "metadata": {
    "ExecuteTime": {
     "end_time": "2023-02-02T20:02:04.242531Z",
     "start_time": "2023-02-02T20:02:03.884010Z"
    }
   },
   "outputs": [],
   "source": [
    "from sklearn.linear_model import LogisticRegression\n",
    "from sklearn.compose import ColumnTransformer\n",
    "from sklearn.pipeline import Pipeline\n",
    "from sklearn import set_config\n",
    "set_config(display='diagram')\n",
    "from sklearn.preprocessing import OneHotEncoder,StandardScaler\n",
    "from sklearn.utils.class_weight import compute_class_weight\n",
    "from sklearn.metrics import recall_score,confusion_matrix,ConfusionMatrixDisplay,precision_score,make_scorer\n",
    "from sklearn.model_selection import train_test_split,GridSearchCV"
   ]
  },
  {
   "cell_type": "code",
   "execution_count": 7,
   "id": "d500bf86",
   "metadata": {
    "ExecuteTime": {
     "end_time": "2023-02-02T20:02:04.254563Z",
     "start_time": "2023-02-02T20:02:04.244254Z"
    }
   },
   "outputs": [
    {
     "name": "stdout",
     "output_type": "stream",
     "text": [
      "0.03536219459922846 0.033483258370814596\n"
     ]
    }
   ],
   "source": [
    "X_train, X_val,y_train, y_val = train_test_split(X,y,test_size=0.30,random_state=42)\n",
    "print(np.sum(y_train)/len(y_train),np.sum(y_val)/len(y_val))"
   ]
  },
  {
   "cell_type": "markdown",
   "id": "5720355e",
   "metadata": {},
   "source": [
    "Por tratar-se de dados desbalanceados, vamos tentar uma abordagem na qual fazemos o balanço das classes. "
   ]
  },
  {
   "cell_type": "code",
   "execution_count": 8,
   "id": "777949ff",
   "metadata": {
    "ExecuteTime": {
     "end_time": "2023-02-02T20:02:04.264253Z",
     "start_time": "2023-02-02T20:02:04.257497Z"
    }
   },
   "outputs": [
    {
     "data": {
      "text/plain": [
       "array([ 0.51832926, 14.13939394])"
      ]
     },
     "execution_count": 8,
     "metadata": {},
     "output_type": "execute_result"
    }
   ],
   "source": [
    "class_weights = compute_class_weight(\n",
    "    class_weight='balanced', \n",
    "    classes = np.unique(y_train), y = y_train)\n",
    "class_weights"
   ]
  },
  {
   "cell_type": "code",
   "execution_count": 9,
   "id": "09b5cfcf",
   "metadata": {
    "ExecuteTime": {
     "end_time": "2023-02-02T20:02:04.303447Z",
     "start_time": "2023-02-02T20:02:04.266776Z"
    }
   },
   "outputs": [
    {
     "name": "stdout",
     "output_type": "stream",
     "text": [
      "Categorical features: ['type']\n",
      "Numerical features: ['air_temperature_k', 'process_temperature_k', 'rotational_speed_rpm', 'torque_nm', 'tool_wear_min', 'diff_temperature_air_process', 'power_W', 'wear_x_torque_minNm']\n"
     ]
    },
    {
     "data": {
      "text/html": [
       "<style>#sk-dd8fd038-183e-4e84-808d-8bdf45bdec07 {color: black;background-color: white;}#sk-dd8fd038-183e-4e84-808d-8bdf45bdec07 pre{padding: 0;}#sk-dd8fd038-183e-4e84-808d-8bdf45bdec07 div.sk-toggleable {background-color: white;}#sk-dd8fd038-183e-4e84-808d-8bdf45bdec07 label.sk-toggleable__label {cursor: pointer;display: block;width: 100%;margin-bottom: 0;padding: 0.3em;box-sizing: border-box;text-align: center;}#sk-dd8fd038-183e-4e84-808d-8bdf45bdec07 div.sk-toggleable__content {max-height: 0;max-width: 0;overflow: hidden;text-align: left;background-color: #f0f8ff;}#sk-dd8fd038-183e-4e84-808d-8bdf45bdec07 div.sk-toggleable__content pre {margin: 0.2em;color: black;border-radius: 0.25em;background-color: #f0f8ff;}#sk-dd8fd038-183e-4e84-808d-8bdf45bdec07 input.sk-toggleable__control:checked~div.sk-toggleable__content {max-height: 200px;max-width: 100%;overflow: auto;}#sk-dd8fd038-183e-4e84-808d-8bdf45bdec07 div.sk-estimator input.sk-toggleable__control:checked~label.sk-toggleable__label {background-color: #d4ebff;}#sk-dd8fd038-183e-4e84-808d-8bdf45bdec07 div.sk-label input.sk-toggleable__control:checked~label.sk-toggleable__label {background-color: #d4ebff;}#sk-dd8fd038-183e-4e84-808d-8bdf45bdec07 input.sk-hidden--visually {border: 0;clip: rect(1px 1px 1px 1px);clip: rect(1px, 1px, 1px, 1px);height: 1px;margin: -1px;overflow: hidden;padding: 0;position: absolute;width: 1px;}#sk-dd8fd038-183e-4e84-808d-8bdf45bdec07 div.sk-estimator {font-family: monospace;background-color: #f0f8ff;border: 1px dotted black;border-radius: 0.25em;box-sizing: border-box;margin-bottom: 0.5em;}#sk-dd8fd038-183e-4e84-808d-8bdf45bdec07 div.sk-estimator:hover {background-color: #d4ebff;}#sk-dd8fd038-183e-4e84-808d-8bdf45bdec07 div.sk-parallel-item::after {content: \"\";width: 100%;border-bottom: 1px solid gray;flex-grow: 1;}#sk-dd8fd038-183e-4e84-808d-8bdf45bdec07 div.sk-label:hover label.sk-toggleable__label {background-color: #d4ebff;}#sk-dd8fd038-183e-4e84-808d-8bdf45bdec07 div.sk-serial::before {content: \"\";position: absolute;border-left: 1px solid gray;box-sizing: border-box;top: 2em;bottom: 0;left: 50%;}#sk-dd8fd038-183e-4e84-808d-8bdf45bdec07 div.sk-serial {display: flex;flex-direction: column;align-items: center;background-color: white;padding-right: 0.2em;padding-left: 0.2em;}#sk-dd8fd038-183e-4e84-808d-8bdf45bdec07 div.sk-item {z-index: 1;}#sk-dd8fd038-183e-4e84-808d-8bdf45bdec07 div.sk-parallel {display: flex;align-items: stretch;justify-content: center;background-color: white;}#sk-dd8fd038-183e-4e84-808d-8bdf45bdec07 div.sk-parallel::before {content: \"\";position: absolute;border-left: 1px solid gray;box-sizing: border-box;top: 2em;bottom: 0;left: 50%;}#sk-dd8fd038-183e-4e84-808d-8bdf45bdec07 div.sk-parallel-item {display: flex;flex-direction: column;position: relative;background-color: white;}#sk-dd8fd038-183e-4e84-808d-8bdf45bdec07 div.sk-parallel-item:first-child::after {align-self: flex-end;width: 50%;}#sk-dd8fd038-183e-4e84-808d-8bdf45bdec07 div.sk-parallel-item:last-child::after {align-self: flex-start;width: 50%;}#sk-dd8fd038-183e-4e84-808d-8bdf45bdec07 div.sk-parallel-item:only-child::after {width: 0;}#sk-dd8fd038-183e-4e84-808d-8bdf45bdec07 div.sk-dashed-wrapped {border: 1px dashed gray;margin: 0 0.4em 0.5em 0.4em;box-sizing: border-box;padding-bottom: 0.4em;background-color: white;position: relative;}#sk-dd8fd038-183e-4e84-808d-8bdf45bdec07 div.sk-label label {font-family: monospace;font-weight: bold;background-color: white;display: inline-block;line-height: 1.2em;}#sk-dd8fd038-183e-4e84-808d-8bdf45bdec07 div.sk-label-container {position: relative;z-index: 2;text-align: center;}#sk-dd8fd038-183e-4e84-808d-8bdf45bdec07 div.sk-container {display: inline-block;position: relative;}</style><div id=\"sk-dd8fd038-183e-4e84-808d-8bdf45bdec07\" class\"sk-top-container\"><div class=\"sk-container\"><div class=\"sk-item sk-dashed-wrapped\"><div class=\"sk-label-container\"><div class=\"sk-label sk-toggleable\"><input class=\"sk-toggleable__control sk-hidden--visually\" id=\"c78ececa-0167-486b-8dfc-8593a108cc93\" type=\"checkbox\" ><label class=\"sk-toggleable__label\" for=\"c78ececa-0167-486b-8dfc-8593a108cc93\">Pipeline</label><div class=\"sk-toggleable__content\"><pre>Pipeline(steps=[('column_transformation',\n",
       "                 ColumnTransformer(transformers=[('categorical',\n",
       "                                                  OneHotEncoder(handle_unknown='ignore'),\n",
       "                                                  ['type']),\n",
       "                                                 ('numerical', StandardScaler(),\n",
       "                                                  ['air_temperature_k',\n",
       "                                                   'process_temperature_k',\n",
       "                                                   'rotational_speed_rpm',\n",
       "                                                   'torque_nm', 'tool_wear_min',\n",
       "                                                   'diff_temperature_air_process',\n",
       "                                                   'power_W',\n",
       "                                                   'wear_x_torque_minNm'])])),\n",
       "                ('Classifier',\n",
       "                 LogisticRegression(class_weight={0: 0.518329260164408,\n",
       "                                                  1: 14.139393939393939},\n",
       "                                    max_iter=500))])</pre></div></div></div><div class=\"sk-serial\"><div class=\"sk-item sk-dashed-wrapped\"><div class=\"sk-label-container\"><div class=\"sk-label sk-toggleable\"><input class=\"sk-toggleable__control sk-hidden--visually\" id=\"83a24f5d-7fb7-45fd-8ba1-d5bf8b26e0af\" type=\"checkbox\" ><label class=\"sk-toggleable__label\" for=\"83a24f5d-7fb7-45fd-8ba1-d5bf8b26e0af\">column_transformation: ColumnTransformer</label><div class=\"sk-toggleable__content\"><pre>ColumnTransformer(transformers=[('categorical',\n",
       "                                 OneHotEncoder(handle_unknown='ignore'),\n",
       "                                 ['type']),\n",
       "                                ('numerical', StandardScaler(),\n",
       "                                 ['air_temperature_k', 'process_temperature_k',\n",
       "                                  'rotational_speed_rpm', 'torque_nm',\n",
       "                                  'tool_wear_min',\n",
       "                                  'diff_temperature_air_process', 'power_W',\n",
       "                                  'wear_x_torque_minNm'])])</pre></div></div></div><div class=\"sk-parallel\"><div class=\"sk-parallel-item\"><div class=\"sk-item\"><div class=\"sk-label-container\"><div class=\"sk-label sk-toggleable\"><input class=\"sk-toggleable__control sk-hidden--visually\" id=\"c62d75f8-5533-439d-a87d-c450b09d34bd\" type=\"checkbox\" ><label class=\"sk-toggleable__label\" for=\"c62d75f8-5533-439d-a87d-c450b09d34bd\">categorical</label><div class=\"sk-toggleable__content\"><pre>['type']</pre></div></div></div><div class=\"sk-serial\"><div class=\"sk-item\"><div class=\"sk-estimator sk-toggleable\"><input class=\"sk-toggleable__control sk-hidden--visually\" id=\"d9f44c6f-ef65-495e-913e-739af1886693\" type=\"checkbox\" ><label class=\"sk-toggleable__label\" for=\"d9f44c6f-ef65-495e-913e-739af1886693\">OneHotEncoder</label><div class=\"sk-toggleable__content\"><pre>OneHotEncoder(handle_unknown='ignore')</pre></div></div></div></div></div></div><div class=\"sk-parallel-item\"><div class=\"sk-item\"><div class=\"sk-label-container\"><div class=\"sk-label sk-toggleable\"><input class=\"sk-toggleable__control sk-hidden--visually\" id=\"1ae23473-2d76-4a49-967b-6ae985235c43\" type=\"checkbox\" ><label class=\"sk-toggleable__label\" for=\"1ae23473-2d76-4a49-967b-6ae985235c43\">numerical</label><div class=\"sk-toggleable__content\"><pre>['air_temperature_k', 'process_temperature_k', 'rotational_speed_rpm', 'torque_nm', 'tool_wear_min', 'diff_temperature_air_process', 'power_W', 'wear_x_torque_minNm']</pre></div></div></div><div class=\"sk-serial\"><div class=\"sk-item\"><div class=\"sk-estimator sk-toggleable\"><input class=\"sk-toggleable__control sk-hidden--visually\" id=\"2dc670dc-cad5-474c-b1fe-ef0aa6de40aa\" type=\"checkbox\" ><label class=\"sk-toggleable__label\" for=\"2dc670dc-cad5-474c-b1fe-ef0aa6de40aa\">StandardScaler</label><div class=\"sk-toggleable__content\"><pre>StandardScaler()</pre></div></div></div></div></div></div></div></div><div class=\"sk-item\"><div class=\"sk-estimator sk-toggleable\"><input class=\"sk-toggleable__control sk-hidden--visually\" id=\"978db5a6-c91e-480b-806b-2bdb7a4aa987\" type=\"checkbox\" ><label class=\"sk-toggleable__label\" for=\"978db5a6-c91e-480b-806b-2bdb7a4aa987\">LogisticRegression</label><div class=\"sk-toggleable__content\"><pre>LogisticRegression(class_weight={0: 0.518329260164408, 1: 14.139393939393939},\n",
       "                   max_iter=500)</pre></div></div></div></div></div></div></div>"
      ],
      "text/plain": [
       "Pipeline(steps=[('column_transformation',\n",
       "                 ColumnTransformer(transformers=[('categorical',\n",
       "                                                  OneHotEncoder(handle_unknown='ignore'),\n",
       "                                                  ['type']),\n",
       "                                                 ('numerical', StandardScaler(),\n",
       "                                                  ['air_temperature_k',\n",
       "                                                   'process_temperature_k',\n",
       "                                                   'rotational_speed_rpm',\n",
       "                                                   'torque_nm', 'tool_wear_min',\n",
       "                                                   'diff_temperature_air_process',\n",
       "                                                   'power_W',\n",
       "                                                   'wear_x_torque_minNm'])])),\n",
       "                ('Classifier',\n",
       "                 LogisticRegression(class_weight={0: 0.518329260164408,\n",
       "                                                  1: 14.139393939393939},\n",
       "                                    max_iter=500))])"
      ]
     },
     "execution_count": 9,
     "metadata": {},
     "output_type": "execute_result"
    }
   ],
   "source": [
    "#Transformation od categorical features\n",
    "cat_features = ['type']\n",
    "print(f'Categorical features: {cat_features}')\n",
    "num_features = list(df.select_dtypes(exclude='object').columns)\n",
    "print(f'Numerical features: {num_features}')\n",
    "\n",
    "#Transformação:\n",
    "#    categóricos serão submetidos a One hot Encoder\n",
    "#    numéricos serão submetidos a StandardScaler\n",
    "#\n",
    "\n",
    "transformation = ColumnTransformer(\n",
    "    [('categorical',OneHotEncoder(handle_unknown='ignore'),cat_features),\n",
    "    ('numerical',StandardScaler(),num_features)]\n",
    ")\n",
    "\n",
    "#Modelo usando os dados balanceados pelas classes\n",
    "model = Pipeline(steps=[\n",
    "    ('column_transformation',transformation),\n",
    "    ('Classifier',LogisticRegression(max_iter=500,class_weight={0:class_weights[0],1:class_weights[1]}))\n",
    "])\n",
    "\n",
    "#model = Pipeline(steps=[\n",
    "#    ('column_transformation',transformation),\n",
    "#    ('Classifier',LogisticRegression(max_iter=500))\n",
    "#])\n",
    "\n",
    "\n",
    "model"
   ]
  },
  {
   "cell_type": "code",
   "execution_count": 21,
   "id": "78b37b48",
   "metadata": {
    "ExecuteTime": {
     "end_time": "2023-02-02T20:06:54.176124Z",
     "start_time": "2023-02-02T20:06:54.161301Z"
    }
   },
   "outputs": [],
   "source": [
    "#####CRIANDO UM SCORE######\n",
    "def false_negative_rate(y_true, y_pred):\n",
    "    \"\"\"\n",
    "    Esta métrica calcula a taxa de falso negativo (TFN) usando os valores reais e previstos da variável alvo. \n",
    "    A TFN é definida como a proporção de falsos negativos (FN) dentro de todos os positivos reais (TP + FN).\n",
    "        \n",
    "    Parametros:\n",
    "        - y_true (array-like): An array or list containing the actual target variable values\n",
    "        - y_pred (array-like): An array or list containing the predicted target variable values\n",
    "    \n",
    "    Returns:\n",
    "        - float: o valor TFN calculado\n",
    "    \"\"\"\n",
    "    tn, fp, fn, tp = confusion_matrix(y_true, y_pred, labels=[0,1]).ravel()\n",
    "    \n",
    "    return (fn / (fn + tp))"
   ]
  },
  {
   "cell_type": "code",
   "execution_count": 22,
   "id": "2b1e5d49",
   "metadata": {
    "ExecuteTime": {
     "end_time": "2023-02-02T20:06:54.665985Z",
     "start_time": "2023-02-02T20:06:54.655064Z"
    }
   },
   "outputs": [],
   "source": [
    "miss_rate = make_scorer(\n",
    "    false_negative_rate,\n",
    "    greater_is_better=False,\n",
    "    needs_proba=False,\n",
    ")"
   ]
  },
  {
   "cell_type": "code",
   "execution_count": 23,
   "id": "05bf8638",
   "metadata": {
    "ExecuteTime": {
     "end_time": "2023-02-02T20:07:03.525216Z",
     "start_time": "2023-02-02T20:06:59.122737Z"
    }
   },
   "outputs": [
    {
     "data": {
      "text/html": [
       "<style>#sk-27418e45-ac8c-45ae-97b0-502d452edb8d {color: black;background-color: white;}#sk-27418e45-ac8c-45ae-97b0-502d452edb8d pre{padding: 0;}#sk-27418e45-ac8c-45ae-97b0-502d452edb8d div.sk-toggleable {background-color: white;}#sk-27418e45-ac8c-45ae-97b0-502d452edb8d label.sk-toggleable__label {cursor: pointer;display: block;width: 100%;margin-bottom: 0;padding: 0.3em;box-sizing: border-box;text-align: center;}#sk-27418e45-ac8c-45ae-97b0-502d452edb8d div.sk-toggleable__content {max-height: 0;max-width: 0;overflow: hidden;text-align: left;background-color: #f0f8ff;}#sk-27418e45-ac8c-45ae-97b0-502d452edb8d div.sk-toggleable__content pre {margin: 0.2em;color: black;border-radius: 0.25em;background-color: #f0f8ff;}#sk-27418e45-ac8c-45ae-97b0-502d452edb8d input.sk-toggleable__control:checked~div.sk-toggleable__content {max-height: 200px;max-width: 100%;overflow: auto;}#sk-27418e45-ac8c-45ae-97b0-502d452edb8d div.sk-estimator input.sk-toggleable__control:checked~label.sk-toggleable__label {background-color: #d4ebff;}#sk-27418e45-ac8c-45ae-97b0-502d452edb8d div.sk-label input.sk-toggleable__control:checked~label.sk-toggleable__label {background-color: #d4ebff;}#sk-27418e45-ac8c-45ae-97b0-502d452edb8d input.sk-hidden--visually {border: 0;clip: rect(1px 1px 1px 1px);clip: rect(1px, 1px, 1px, 1px);height: 1px;margin: -1px;overflow: hidden;padding: 0;position: absolute;width: 1px;}#sk-27418e45-ac8c-45ae-97b0-502d452edb8d div.sk-estimator {font-family: monospace;background-color: #f0f8ff;border: 1px dotted black;border-radius: 0.25em;box-sizing: border-box;margin-bottom: 0.5em;}#sk-27418e45-ac8c-45ae-97b0-502d452edb8d div.sk-estimator:hover {background-color: #d4ebff;}#sk-27418e45-ac8c-45ae-97b0-502d452edb8d div.sk-parallel-item::after {content: \"\";width: 100%;border-bottom: 1px solid gray;flex-grow: 1;}#sk-27418e45-ac8c-45ae-97b0-502d452edb8d div.sk-label:hover label.sk-toggleable__label {background-color: #d4ebff;}#sk-27418e45-ac8c-45ae-97b0-502d452edb8d div.sk-serial::before {content: \"\";position: absolute;border-left: 1px solid gray;box-sizing: border-box;top: 2em;bottom: 0;left: 50%;}#sk-27418e45-ac8c-45ae-97b0-502d452edb8d div.sk-serial {display: flex;flex-direction: column;align-items: center;background-color: white;padding-right: 0.2em;padding-left: 0.2em;}#sk-27418e45-ac8c-45ae-97b0-502d452edb8d div.sk-item {z-index: 1;}#sk-27418e45-ac8c-45ae-97b0-502d452edb8d div.sk-parallel {display: flex;align-items: stretch;justify-content: center;background-color: white;}#sk-27418e45-ac8c-45ae-97b0-502d452edb8d div.sk-parallel::before {content: \"\";position: absolute;border-left: 1px solid gray;box-sizing: border-box;top: 2em;bottom: 0;left: 50%;}#sk-27418e45-ac8c-45ae-97b0-502d452edb8d div.sk-parallel-item {display: flex;flex-direction: column;position: relative;background-color: white;}#sk-27418e45-ac8c-45ae-97b0-502d452edb8d div.sk-parallel-item:first-child::after {align-self: flex-end;width: 50%;}#sk-27418e45-ac8c-45ae-97b0-502d452edb8d div.sk-parallel-item:last-child::after {align-self: flex-start;width: 50%;}#sk-27418e45-ac8c-45ae-97b0-502d452edb8d div.sk-parallel-item:only-child::after {width: 0;}#sk-27418e45-ac8c-45ae-97b0-502d452edb8d div.sk-dashed-wrapped {border: 1px dashed gray;margin: 0 0.4em 0.5em 0.4em;box-sizing: border-box;padding-bottom: 0.4em;background-color: white;position: relative;}#sk-27418e45-ac8c-45ae-97b0-502d452edb8d div.sk-label label {font-family: monospace;font-weight: bold;background-color: white;display: inline-block;line-height: 1.2em;}#sk-27418e45-ac8c-45ae-97b0-502d452edb8d div.sk-label-container {position: relative;z-index: 2;text-align: center;}#sk-27418e45-ac8c-45ae-97b0-502d452edb8d div.sk-container {display: inline-block;position: relative;}</style><div id=\"sk-27418e45-ac8c-45ae-97b0-502d452edb8d\" class\"sk-top-container\"><div class=\"sk-container\"><div class=\"sk-item sk-dashed-wrapped\"><div class=\"sk-label-container\"><div class=\"sk-label sk-toggleable\"><input class=\"sk-toggleable__control sk-hidden--visually\" id=\"dc9c7bbb-355e-4c68-87e1-d8603d6367c4\" type=\"checkbox\" ><label class=\"sk-toggleable__label\" for=\"dc9c7bbb-355e-4c68-87e1-d8603d6367c4\">GridSearchCV</label><div class=\"sk-toggleable__content\"><pre>GridSearchCV(cv=5,\n",
       "             estimator=Pipeline(steps=[('column_transformation',\n",
       "                                        ColumnTransformer(transformers=[('categorical',\n",
       "                                                                         OneHotEncoder(handle_unknown='ignore'),\n",
       "                                                                         ['type']),\n",
       "                                                                        ('numerical',\n",
       "                                                                         StandardScaler(),\n",
       "                                                                         ['air_temperature_k',\n",
       "                                                                          'process_temperature_k',\n",
       "                                                                          'rotational_speed_rpm',\n",
       "                                                                          'torque_nm',\n",
       "                                                                          'tool_wear_min',\n",
       "                                                                          'diff_temperature_air_process',\n",
       "                                                                          'power_W',\n",
       "                                                                          'wear_x_torque_minNm'])])),\n",
       "                                       ('Classifier',\n",
       "                                        LogisticRegression(C=1,\n",
       "                                                           class_weight={0: 0.518329260164408,\n",
       "                                                                         1: 14.139393939393939}))]),\n",
       "             param_grid={'Classifier__C': [0.001, 0.01, 0.1, 1, 5, 10],\n",
       "                         'Classifier__max_iter': [100, 200, 300, 400, 500]},\n",
       "             scoring=make_scorer(false_negative_rate, greater_is_better=False))</pre></div></div></div><div class=\"sk-parallel\"><div class=\"sk-parallel-item\"><div class=\"sk-item\"><div class=\"sk-serial\"><div class=\"sk-item\"><div class=\"sk-serial\"><div class=\"sk-item sk-dashed-wrapped\"><div class=\"sk-label-container\"><div class=\"sk-label sk-toggleable\"><input class=\"sk-toggleable__control sk-hidden--visually\" id=\"1969fb6f-8c02-4e58-9eec-fb5a8e2399d0\" type=\"checkbox\" ><label class=\"sk-toggleable__label\" for=\"1969fb6f-8c02-4e58-9eec-fb5a8e2399d0\">column_transformation: ColumnTransformer</label><div class=\"sk-toggleable__content\"><pre>ColumnTransformer(transformers=[('categorical',\n",
       "                                 OneHotEncoder(handle_unknown='ignore'),\n",
       "                                 ['type']),\n",
       "                                ('numerical', StandardScaler(),\n",
       "                                 ['air_temperature_k', 'process_temperature_k',\n",
       "                                  'rotational_speed_rpm', 'torque_nm',\n",
       "                                  'tool_wear_min',\n",
       "                                  'diff_temperature_air_process', 'power_W',\n",
       "                                  'wear_x_torque_minNm'])])</pre></div></div></div><div class=\"sk-parallel\"><div class=\"sk-parallel-item\"><div class=\"sk-item\"><div class=\"sk-label-container\"><div class=\"sk-label sk-toggleable\"><input class=\"sk-toggleable__control sk-hidden--visually\" id=\"b2eb87f8-4ffa-4957-b2b4-a45554e3f275\" type=\"checkbox\" ><label class=\"sk-toggleable__label\" for=\"b2eb87f8-4ffa-4957-b2b4-a45554e3f275\">categorical</label><div class=\"sk-toggleable__content\"><pre>['type']</pre></div></div></div><div class=\"sk-serial\"><div class=\"sk-item\"><div class=\"sk-estimator sk-toggleable\"><input class=\"sk-toggleable__control sk-hidden--visually\" id=\"5fdc7ffe-f699-4b4d-9c5e-3b72983a51ac\" type=\"checkbox\" ><label class=\"sk-toggleable__label\" for=\"5fdc7ffe-f699-4b4d-9c5e-3b72983a51ac\">OneHotEncoder</label><div class=\"sk-toggleable__content\"><pre>OneHotEncoder(handle_unknown='ignore')</pre></div></div></div></div></div></div><div class=\"sk-parallel-item\"><div class=\"sk-item\"><div class=\"sk-label-container\"><div class=\"sk-label sk-toggleable\"><input class=\"sk-toggleable__control sk-hidden--visually\" id=\"78a342f3-ee20-4b13-b3f1-562ec08a2e8d\" type=\"checkbox\" ><label class=\"sk-toggleable__label\" for=\"78a342f3-ee20-4b13-b3f1-562ec08a2e8d\">numerical</label><div class=\"sk-toggleable__content\"><pre>['air_temperature_k', 'process_temperature_k', 'rotational_speed_rpm', 'torque_nm', 'tool_wear_min', 'diff_temperature_air_process', 'power_W', 'wear_x_torque_minNm']</pre></div></div></div><div class=\"sk-serial\"><div class=\"sk-item\"><div class=\"sk-estimator sk-toggleable\"><input class=\"sk-toggleable__control sk-hidden--visually\" id=\"c6bee28d-e122-49ee-9f2d-240fba5a386d\" type=\"checkbox\" ><label class=\"sk-toggleable__label\" for=\"c6bee28d-e122-49ee-9f2d-240fba5a386d\">StandardScaler</label><div class=\"sk-toggleable__content\"><pre>StandardScaler()</pre></div></div></div></div></div></div></div></div><div class=\"sk-item\"><div class=\"sk-estimator sk-toggleable\"><input class=\"sk-toggleable__control sk-hidden--visually\" id=\"7b108417-223d-4b79-a950-a8ef448182a9\" type=\"checkbox\" ><label class=\"sk-toggleable__label\" for=\"7b108417-223d-4b79-a950-a8ef448182a9\">LogisticRegression</label><div class=\"sk-toggleable__content\"><pre>LogisticRegression(C=1,\n",
       "                   class_weight={0: 0.518329260164408, 1: 14.139393939393939})</pre></div></div></div></div></div></div></div></div></div></div></div></div>"
      ],
      "text/plain": [
       "GridSearchCV(cv=5,\n",
       "             estimator=Pipeline(steps=[('column_transformation',\n",
       "                                        ColumnTransformer(transformers=[('categorical',\n",
       "                                                                         OneHotEncoder(handle_unknown='ignore'),\n",
       "                                                                         ['type']),\n",
       "                                                                        ('numerical',\n",
       "                                                                         StandardScaler(),\n",
       "                                                                         ['air_temperature_k',\n",
       "                                                                          'process_temperature_k',\n",
       "                                                                          'rotational_speed_rpm',\n",
       "                                                                          'torque_nm',\n",
       "                                                                          'tool_wear_min',\n",
       "                                                                          'diff_temperature_air_process',\n",
       "                                                                          'power_W',\n",
       "                                                                          'wear_x_torque_minNm'])])),\n",
       "                                       ('Classifier',\n",
       "                                        LogisticRegression(C=1,\n",
       "                                                           class_weight={0: 0.518329260164408,\n",
       "                                                                         1: 14.139393939393939}))]),\n",
       "             param_grid={'Classifier__C': [0.001, 0.01, 0.1, 1, 5, 10],\n",
       "                         'Classifier__max_iter': [100, 200, 300, 400, 500]},\n",
       "             scoring=make_scorer(false_negative_rate, greater_is_better=False))"
      ]
     },
     "execution_count": 23,
     "metadata": {},
     "output_type": "execute_result"
    }
   ],
   "source": [
    "param_grid = {\n",
    "    'Classifier__C':[0.001,0.01,0.1,1,5,10],\n",
    "    'Classifier__max_iter':[100,200,300,400,500]\n",
    "}\n",
    "\n",
    "search = GridSearchCV(model,\n",
    "                      param_grid,\n",
    "                      scoring= miss_rate,\n",
    "                     cv = 5)\n",
    "search.fit(X_train,y_train)"
   ]
  },
  {
   "cell_type": "code",
   "execution_count": 24,
   "id": "d5915b5e",
   "metadata": {
    "ExecuteTime": {
     "end_time": "2023-02-02T20:07:03.531825Z",
     "start_time": "2023-02-02T20:07:03.527630Z"
    }
   },
   "outputs": [
    {
     "data": {
      "text/plain": [
       "{'Classifier__C': 1, 'Classifier__max_iter': 100}"
      ]
     },
     "execution_count": 24,
     "metadata": {},
     "output_type": "execute_result"
    }
   ],
   "source": [
    "search.best_params_"
   ]
  },
  {
   "cell_type": "code",
   "execution_count": null,
   "id": "42fe6eb7",
   "metadata": {},
   "outputs": [],
   "source": []
  },
  {
   "cell_type": "code",
   "execution_count": 25,
   "id": "e33b92c3",
   "metadata": {
    "ExecuteTime": {
     "end_time": "2023-02-02T20:07:03.554042Z",
     "start_time": "2023-02-02T20:07:03.534106Z"
    }
   },
   "outputs": [
    {
     "data": {
      "text/plain": [
       "<bound method Pipeline.get_params of Pipeline(steps=[('column_transformation',\n",
       "                 ColumnTransformer(transformers=[('categorical',\n",
       "                                                  OneHotEncoder(handle_unknown='ignore'),\n",
       "                                                  ['type']),\n",
       "                                                 ('numerical', StandardScaler(),\n",
       "                                                  ['air_temperature_k',\n",
       "                                                   'process_temperature_k',\n",
       "                                                   'rotational_speed_rpm',\n",
       "                                                   'torque_nm', 'tool_wear_min',\n",
       "                                                   'diff_temperature_air_process',\n",
       "                                                   'power_W',\n",
       "                                                   'wear_x_torque_minNm'])])),\n",
       "                ('Classifier',\n",
       "                 LogisticRegression(C=1,\n",
       "                                    class_weight={0: 0.518329260164408,\n",
       "                                                  1: 14.139393939393939}))])>"
      ]
     },
     "execution_count": 25,
     "metadata": {},
     "output_type": "execute_result"
    }
   ],
   "source": [
    "model.get_params"
   ]
  },
  {
   "cell_type": "code",
   "execution_count": 15,
   "id": "52dd57f2",
   "metadata": {
    "ExecuteTime": {
     "end_time": "2023-02-02T20:02:08.709110Z",
     "start_time": "2023-02-02T20:02:08.672724Z"
    }
   },
   "outputs": [
    {
     "data": {
      "text/html": [
       "<style>#sk-0a242cad-aa25-4599-b0a9-b0cdccbbe300 {color: black;background-color: white;}#sk-0a242cad-aa25-4599-b0a9-b0cdccbbe300 pre{padding: 0;}#sk-0a242cad-aa25-4599-b0a9-b0cdccbbe300 div.sk-toggleable {background-color: white;}#sk-0a242cad-aa25-4599-b0a9-b0cdccbbe300 label.sk-toggleable__label {cursor: pointer;display: block;width: 100%;margin-bottom: 0;padding: 0.3em;box-sizing: border-box;text-align: center;}#sk-0a242cad-aa25-4599-b0a9-b0cdccbbe300 div.sk-toggleable__content {max-height: 0;max-width: 0;overflow: hidden;text-align: left;background-color: #f0f8ff;}#sk-0a242cad-aa25-4599-b0a9-b0cdccbbe300 div.sk-toggleable__content pre {margin: 0.2em;color: black;border-radius: 0.25em;background-color: #f0f8ff;}#sk-0a242cad-aa25-4599-b0a9-b0cdccbbe300 input.sk-toggleable__control:checked~div.sk-toggleable__content {max-height: 200px;max-width: 100%;overflow: auto;}#sk-0a242cad-aa25-4599-b0a9-b0cdccbbe300 div.sk-estimator input.sk-toggleable__control:checked~label.sk-toggleable__label {background-color: #d4ebff;}#sk-0a242cad-aa25-4599-b0a9-b0cdccbbe300 div.sk-label input.sk-toggleable__control:checked~label.sk-toggleable__label {background-color: #d4ebff;}#sk-0a242cad-aa25-4599-b0a9-b0cdccbbe300 input.sk-hidden--visually {border: 0;clip: rect(1px 1px 1px 1px);clip: rect(1px, 1px, 1px, 1px);height: 1px;margin: -1px;overflow: hidden;padding: 0;position: absolute;width: 1px;}#sk-0a242cad-aa25-4599-b0a9-b0cdccbbe300 div.sk-estimator {font-family: monospace;background-color: #f0f8ff;border: 1px dotted black;border-radius: 0.25em;box-sizing: border-box;margin-bottom: 0.5em;}#sk-0a242cad-aa25-4599-b0a9-b0cdccbbe300 div.sk-estimator:hover {background-color: #d4ebff;}#sk-0a242cad-aa25-4599-b0a9-b0cdccbbe300 div.sk-parallel-item::after {content: \"\";width: 100%;border-bottom: 1px solid gray;flex-grow: 1;}#sk-0a242cad-aa25-4599-b0a9-b0cdccbbe300 div.sk-label:hover label.sk-toggleable__label {background-color: #d4ebff;}#sk-0a242cad-aa25-4599-b0a9-b0cdccbbe300 div.sk-serial::before {content: \"\";position: absolute;border-left: 1px solid gray;box-sizing: border-box;top: 2em;bottom: 0;left: 50%;}#sk-0a242cad-aa25-4599-b0a9-b0cdccbbe300 div.sk-serial {display: flex;flex-direction: column;align-items: center;background-color: white;padding-right: 0.2em;padding-left: 0.2em;}#sk-0a242cad-aa25-4599-b0a9-b0cdccbbe300 div.sk-item {z-index: 1;}#sk-0a242cad-aa25-4599-b0a9-b0cdccbbe300 div.sk-parallel {display: flex;align-items: stretch;justify-content: center;background-color: white;}#sk-0a242cad-aa25-4599-b0a9-b0cdccbbe300 div.sk-parallel::before {content: \"\";position: absolute;border-left: 1px solid gray;box-sizing: border-box;top: 2em;bottom: 0;left: 50%;}#sk-0a242cad-aa25-4599-b0a9-b0cdccbbe300 div.sk-parallel-item {display: flex;flex-direction: column;position: relative;background-color: white;}#sk-0a242cad-aa25-4599-b0a9-b0cdccbbe300 div.sk-parallel-item:first-child::after {align-self: flex-end;width: 50%;}#sk-0a242cad-aa25-4599-b0a9-b0cdccbbe300 div.sk-parallel-item:last-child::after {align-self: flex-start;width: 50%;}#sk-0a242cad-aa25-4599-b0a9-b0cdccbbe300 div.sk-parallel-item:only-child::after {width: 0;}#sk-0a242cad-aa25-4599-b0a9-b0cdccbbe300 div.sk-dashed-wrapped {border: 1px dashed gray;margin: 0 0.4em 0.5em 0.4em;box-sizing: border-box;padding-bottom: 0.4em;background-color: white;position: relative;}#sk-0a242cad-aa25-4599-b0a9-b0cdccbbe300 div.sk-label label {font-family: monospace;font-weight: bold;background-color: white;display: inline-block;line-height: 1.2em;}#sk-0a242cad-aa25-4599-b0a9-b0cdccbbe300 div.sk-label-container {position: relative;z-index: 2;text-align: center;}#sk-0a242cad-aa25-4599-b0a9-b0cdccbbe300 div.sk-container {display: inline-block;position: relative;}</style><div id=\"sk-0a242cad-aa25-4599-b0a9-b0cdccbbe300\" class\"sk-top-container\"><div class=\"sk-container\"><div class=\"sk-item sk-dashed-wrapped\"><div class=\"sk-label-container\"><div class=\"sk-label sk-toggleable\"><input class=\"sk-toggleable__control sk-hidden--visually\" id=\"ba62322c-df51-4a42-aee0-a4746b738ef8\" type=\"checkbox\" ><label class=\"sk-toggleable__label\" for=\"ba62322c-df51-4a42-aee0-a4746b738ef8\">Pipeline</label><div class=\"sk-toggleable__content\"><pre>Pipeline(steps=[('column_transformation',\n",
       "                 ColumnTransformer(transformers=[('categorical',\n",
       "                                                  OneHotEncoder(handle_unknown='ignore'),\n",
       "                                                  ['type']),\n",
       "                                                 ('numerical', StandardScaler(),\n",
       "                                                  ['air_temperature_k',\n",
       "                                                   'process_temperature_k',\n",
       "                                                   'rotational_speed_rpm',\n",
       "                                                   'torque_nm', 'tool_wear_min',\n",
       "                                                   'diff_temperature_air_process',\n",
       "                                                   'power_W',\n",
       "                                                   'wear_x_torque_minNm'])])),\n",
       "                ('Classifier',\n",
       "                 LogisticRegression(C=1,\n",
       "                                    class_weight={0: 0.518329260164408,\n",
       "                                                  1: 14.139393939393939}))])</pre></div></div></div><div class=\"sk-serial\"><div class=\"sk-item sk-dashed-wrapped\"><div class=\"sk-label-container\"><div class=\"sk-label sk-toggleable\"><input class=\"sk-toggleable__control sk-hidden--visually\" id=\"fc9be859-8ad1-4de7-89ee-68d3e1371b14\" type=\"checkbox\" ><label class=\"sk-toggleable__label\" for=\"fc9be859-8ad1-4de7-89ee-68d3e1371b14\">column_transformation: ColumnTransformer</label><div class=\"sk-toggleable__content\"><pre>ColumnTransformer(transformers=[('categorical',\n",
       "                                 OneHotEncoder(handle_unknown='ignore'),\n",
       "                                 ['type']),\n",
       "                                ('numerical', StandardScaler(),\n",
       "                                 ['air_temperature_k', 'process_temperature_k',\n",
       "                                  'rotational_speed_rpm', 'torque_nm',\n",
       "                                  'tool_wear_min',\n",
       "                                  'diff_temperature_air_process', 'power_W',\n",
       "                                  'wear_x_torque_minNm'])])</pre></div></div></div><div class=\"sk-parallel\"><div class=\"sk-parallel-item\"><div class=\"sk-item\"><div class=\"sk-label-container\"><div class=\"sk-label sk-toggleable\"><input class=\"sk-toggleable__control sk-hidden--visually\" id=\"9849fb91-d7a3-4feb-988e-020a3c0fc6a3\" type=\"checkbox\" ><label class=\"sk-toggleable__label\" for=\"9849fb91-d7a3-4feb-988e-020a3c0fc6a3\">categorical</label><div class=\"sk-toggleable__content\"><pre>['type']</pre></div></div></div><div class=\"sk-serial\"><div class=\"sk-item\"><div class=\"sk-estimator sk-toggleable\"><input class=\"sk-toggleable__control sk-hidden--visually\" id=\"49100eb5-3027-4b18-933f-94fc3f78c75a\" type=\"checkbox\" ><label class=\"sk-toggleable__label\" for=\"49100eb5-3027-4b18-933f-94fc3f78c75a\">OneHotEncoder</label><div class=\"sk-toggleable__content\"><pre>OneHotEncoder(handle_unknown='ignore')</pre></div></div></div></div></div></div><div class=\"sk-parallel-item\"><div class=\"sk-item\"><div class=\"sk-label-container\"><div class=\"sk-label sk-toggleable\"><input class=\"sk-toggleable__control sk-hidden--visually\" id=\"4920ca3c-24d0-4390-a6f6-a0fb8f3ed33a\" type=\"checkbox\" ><label class=\"sk-toggleable__label\" for=\"4920ca3c-24d0-4390-a6f6-a0fb8f3ed33a\">numerical</label><div class=\"sk-toggleable__content\"><pre>['air_temperature_k', 'process_temperature_k', 'rotational_speed_rpm', 'torque_nm', 'tool_wear_min', 'diff_temperature_air_process', 'power_W', 'wear_x_torque_minNm']</pre></div></div></div><div class=\"sk-serial\"><div class=\"sk-item\"><div class=\"sk-estimator sk-toggleable\"><input class=\"sk-toggleable__control sk-hidden--visually\" id=\"7f6939fe-2f3b-4d1c-b618-2abad38d5472\" type=\"checkbox\" ><label class=\"sk-toggleable__label\" for=\"7f6939fe-2f3b-4d1c-b618-2abad38d5472\">StandardScaler</label><div class=\"sk-toggleable__content\"><pre>StandardScaler()</pre></div></div></div></div></div></div></div></div><div class=\"sk-item\"><div class=\"sk-estimator sk-toggleable\"><input class=\"sk-toggleable__control sk-hidden--visually\" id=\"4059ac42-c347-4e44-bbda-a6b8a58941ed\" type=\"checkbox\" ><label class=\"sk-toggleable__label\" for=\"4059ac42-c347-4e44-bbda-a6b8a58941ed\">LogisticRegression</label><div class=\"sk-toggleable__content\"><pre>LogisticRegression(C=1,\n",
       "                   class_weight={0: 0.518329260164408, 1: 14.139393939393939})</pre></div></div></div></div></div></div></div>"
      ],
      "text/plain": [
       "Pipeline(steps=[('column_transformation',\n",
       "                 ColumnTransformer(transformers=[('categorical',\n",
       "                                                  OneHotEncoder(handle_unknown='ignore'),\n",
       "                                                  ['type']),\n",
       "                                                 ('numerical', StandardScaler(),\n",
       "                                                  ['air_temperature_k',\n",
       "                                                   'process_temperature_k',\n",
       "                                                   'rotational_speed_rpm',\n",
       "                                                   'torque_nm', 'tool_wear_min',\n",
       "                                                   'diff_temperature_air_process',\n",
       "                                                   'power_W',\n",
       "                                                   'wear_x_torque_minNm'])])),\n",
       "                ('Classifier',\n",
       "                 LogisticRegression(C=1,\n",
       "                                    class_weight={0: 0.518329260164408,\n",
       "                                                  1: 14.139393939393939}))])"
      ]
     },
     "execution_count": 15,
     "metadata": {},
     "output_type": "execute_result"
    }
   ],
   "source": [
    "model.set_params(**search.best_params_)"
   ]
  },
  {
   "cell_type": "code",
   "execution_count": 16,
   "id": "15080c18",
   "metadata": {
    "ExecuteTime": {
     "end_time": "2023-02-02T20:02:08.769710Z",
     "start_time": "2023-02-02T20:02:08.711382Z"
    }
   },
   "outputs": [],
   "source": [
    "model.fit(X_train,y_train)\n",
    "y_pred = model.predict(X_val)"
   ]
  },
  {
   "cell_type": "code",
   "execution_count": 17,
   "id": "ed168f24",
   "metadata": {
    "ExecuteTime": {
     "end_time": "2023-02-02T20:02:09.618736Z",
     "start_time": "2023-02-02T20:02:08.771946Z"
    }
   },
   "outputs": [
    {
     "data": {
      "text/plain": [
       "<sklearn.metrics._plot.confusion_matrix.ConfusionMatrixDisplay at 0x7fc62698bcd0>"
      ]
     },
     "execution_count": 17,
     "metadata": {},
     "output_type": "execute_result"
    },
    {
     "data": {
      "image/png": "[encoded data removed]",
      "text/plain": [
       "<Figure size 432x288 with 2 Axes>"
      ]
     },
     "metadata": {
      "needs_background": "light"
     },
     "output_type": "display_data"
    }
   ],
   "source": [
    "conf_mat = ConfusionMatrixDisplay(confusion_matrix(y_val,y_pred),display_labels=model.classes_)\n",
    "conf_mat.plot()"
   ]
  },
  {
   "cell_type": "code",
   "execution_count": 18,
   "id": "74b9d603",
   "metadata": {
    "ExecuteTime": {
     "end_time": "2023-02-02T20:02:09.627492Z",
     "start_time": "2023-02-02T20:02:09.621055Z"
    }
   },
   "outputs": [],
   "source": [
    "tn, fp, fn, tp = confusion_matrix(y_val, y_pred, labels=[0,1]).ravel()"
   ]
  },
  {
   "cell_type": "code",
   "execution_count": 19,
   "id": "742d87bc",
   "metadata": {
    "ExecuteTime": {
     "end_time": "2023-02-02T20:02:09.638601Z",
     "start_time": "2023-02-02T20:02:09.629710Z"
    }
   },
   "outputs": [
    {
     "data": {
      "text/plain": [
       "(1626, 308, 12, 55)"
      ]
     },
     "execution_count": 19,
     "metadata": {},
     "output_type": "execute_result"
    }
   ],
   "source": [
    "tn,fp,fn,tp"
   ]
  },
  {
   "cell_type": "code",
   "execution_count": 20,
   "id": "fc4c1e1a",
   "metadata": {
    "ExecuteTime": {
     "end_time": "2023-02-02T20:06:03.547437Z",
     "start_time": "2023-02-02T20:06:03.532716Z"
    }
   },
   "outputs": [
    {
     "data": {
      "text/plain": [
       "67"
      ]
     },
     "execution_count": 20,
     "metadata": {},
     "output_type": "execute_result"
    }
   ],
   "source": [
    "np.sum(y_val)"
   ]
  },
  {
   "cell_type": "code",
   "execution_count": null,
   "id": "a029cfd3",
   "metadata": {},
   "outputs": [],
   "source": []
  }
 ],
 "metadata": {
  "kernelspec": {
   "display_name": "Python 3 (ipykernel)",
   "language": "python",
   "name": "python3"
  },
  "language_info": {
   "codemirror_mode": {
    "name": "ipython",
    "version": 3
   },
   "file_extension": ".py",
   "mimetype": "text/x-python",
   "name": "python",
   "nbconvert_exporter": "python",
   "pygments_lexer": "ipython3",
   "version": "3.10.4"
  }
 },
 "nbformat": 4,
 "nbformat_minor": 5
}
